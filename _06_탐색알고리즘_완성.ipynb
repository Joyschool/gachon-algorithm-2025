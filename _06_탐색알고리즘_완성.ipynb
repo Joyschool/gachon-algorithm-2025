{
  "cells": [
    {
      "cell_type": "markdown",
      "metadata": {
        "id": "view-in-github",
        "colab_type": "text"
      },
      "source": [
        "<a href=\"https://colab.research.google.com/github/Joyschool/gachon-algorithm-2025/blob/main/_06_%ED%83%90%EC%83%89%EC%95%8C%EA%B3%A0%EB%A6%AC%EC%A6%98_%EC%99%84%EC%84%B1.ipynb\" target=\"_parent\"><img src=\"https://colab.research.google.com/assets/colab-badge.svg\" alt=\"Open In Colab\"/></a>"
      ]
    },
    {
      "cell_type": "markdown",
      "id": "f44bcd12",
      "metadata": {
        "id": "f44bcd12"
      },
      "source": [
        "# **탐색 알고리즘**"
      ]
    },
    {
      "cell_type": "markdown",
      "id": "d9719ece",
      "metadata": {
        "id": "d9719ece"
      },
      "source": [
        "------------------------------"
      ]
    },
    {
      "cell_type": "markdown",
      "source": [
        "**(코랩에서)한글 폰트 지정하는 방법**"
      ],
      "metadata": {
        "id": "Uzqyux7fJbNn"
      },
      "id": "Uzqyux7fJbNn"
    },
    {
      "cell_type": "code",
      "source": [
        "!sudo apt-get install -y fonts-nanum\n",
        "!sudo fc-cache -fv\n",
        "!rm ~/.cache/matplotlib -rf\n",
        "\n",
        "# 코랩에서 위 코드를 실행시킨 후  반드시 코랩 메뉴: \"런타임>세션 다시 시작\" 합니다."
      ],
      "metadata": {
        "collapsed": true,
        "id": "A_oQRimiJPhf"
      },
      "execution_count": null,
      "outputs": [],
      "id": "A_oQRimiJPhf"
    },
    {
      "cell_type": "code",
      "source": [
        "import matplotlib.pyplot as plt\n",
        "plt.rc('font', family='NanumGothic')       # (코랩)한글 폰트"
      ],
      "metadata": {
        "id": "xTBXzrFAJ8Hs"
      },
      "execution_count": null,
      "outputs": [],
      "id": "xTBXzrFAJ8Hs"
    },
    {
      "cell_type": "markdown",
      "source": [
        "\n",
        "\n",
        "---\n",
        "\n"
      ],
      "metadata": {
        "id": "UV6k1t9OtXXj"
      },
      "id": "UV6k1t9OtXXj"
    },
    {
      "cell_type": "markdown",
      "id": "e6e94c54",
      "metadata": {
        "id": "e6e94c54"
      },
      "source": [
        "## 1-1. 탐색 알고리즘 개요"
      ]
    },
    {
      "cell_type": "markdown",
      "source": [
        "### 1) 탐색 알고리즘 아키텍처 (시뮬레이션)"
      ],
      "metadata": {
        "id": "9i088iwhtrn1"
      },
      "id": "9i088iwhtrn1"
    },
    {
      "cell_type": "markdown",
      "source": [
        "- **기초 알고리즘 시뮬레이션 예**:\n",
        "    - 1.입력 데이터(Input) : 리스트, 배열, 트리 등\n",
        "    - 2.탐색 조건(Target) : 특정 값 또는 키\n",
        "    - 3.탐색 알고리즘(Search) : 선형 탐색, 이진 탐색, 해시 탐색, 트리 탐색\n",
        "    - 4.탐색 결과(Output) : 인덱스, 노드, 없음을 의미"
      ],
      "metadata": {
        "id": "G5I2azZTtySV"
      },
      "id": "G5I2azZTtySV"
    },
    {
      "cell_type": "code",
      "source": [
        "# 1. 입력 데이터 (리스트)\n",
        "input_data = [3, 7, 1, 9, 5, 8, 4, 2, 6]\n",
        "target = 5  # 탐색 조건 (특정 값)\n",
        "\n",
        "# 2. 선형 탐색 (Linear Search)\n",
        "def linear_search(data, target):\n",
        "    for i, val in enumerate(data):\n",
        "        if val == target:\n",
        "            return i\n",
        "    return -1\n",
        "\n",
        "# 3. 이진 탐색 (Binary Search) - 정렬 필요\n",
        "def binary_search(data, target):\n",
        "    sorted_data = sorted(data)\n",
        "    left, right = 0, len(sorted_data) - 1\n",
        "    while left <= right:\n",
        "        mid = (left + right) // 2\n",
        "        if sorted_data[mid] == target:\n",
        "            return mid  # 주의: 정렬된 인덱스\n",
        "        elif sorted_data[mid] < target:\n",
        "            left = mid + 1\n",
        "        else:\n",
        "            right = mid - 1\n",
        "    return -1\n",
        "\n",
        "# 4. 해시 탐색 (Hashing) - dict 활용\n",
        "def hash_search(data, target):\n",
        "    hash_map = {val: i for i, val in enumerate(data)}\n",
        "    return hash_map.get(target, -1)\n",
        "\n",
        "# 5. 트리 탐색 (DFS) - 이진 탐색 트리 구성 후 DFS\n",
        "class Node:\n",
        "    def __init__(self, key):\n",
        "        self.key = key\n",
        "        self.left = self.right = None\n",
        "\n",
        "def insert_bst(root, key):\n",
        "    if root is None:\n",
        "        return Node(key)\n",
        "    if key < root.key:\n",
        "        root.left = insert_bst(root.left, key)\n",
        "    else:\n",
        "        root.right = insert_bst(root.right, key)\n",
        "    return root\n",
        "\n",
        "def dfs_search(node, target):\n",
        "    if node is None:\n",
        "        return False\n",
        "    if node.key == target:\n",
        "        return True\n",
        "    return dfs_search(node.left, target) or dfs_search(node.right, target)\n",
        "\n",
        "# 트리 생성\n",
        "bst_root = None\n",
        "for val in input_data:\n",
        "    bst_root = insert_bst(bst_root, val)\n",
        "\n",
        "# 6. 결과 출력\n",
        "print(\"입력 데이터:\", input_data)\n",
        "print(\"탐색 조건:\", target)\n",
        "\n",
        "print(\"\\n탐색 결과:\")\n",
        "print(\" - 선형 탐색 결과:\", linear_search(input_data, target))\n",
        "print(\" - 이진 탐색 결과:\", binary_search(input_data, target))\n",
        "print(\" - 해시 탐색 결과:\", hash_search(input_data, target))\n",
        "print(\" - 트리 DFS 탐색 결과:\", \"찾음\" if dfs_search(bst_root, target) else \"없음\")\n"
      ],
      "metadata": {
        "id": "5hqHEKByt8GX"
      },
      "id": "5hqHEKByt8GX",
      "execution_count": null,
      "outputs": []
    },
    {
      "cell_type": "markdown",
      "source": [
        "- **구글 검색 알고리즘 시뮬레이션 예**:\n",
        "    - 1.쿼리 분석 – 정규화, 토크나이징\n",
        "    - 2.색인 생성 (Inverted Index) – 문서의 단어 빈도 분석\n",
        "    - 3.검색 알고리즘 수행 – TF-IDF, BM25 등으로 점수 계산\n",
        "    - 4.결과 정렬 및 필터링\n",
        "    - 5.사용자에게 결과 반환"
      ],
      "metadata": {
        "id": "QW-OmAQot1hQ"
      },
      "id": "QW-OmAQot1hQ"
    },
    {
      "cell_type": "code",
      "source": [
        "!pip install rank-bm25 scikit-learn pandas nltk konlpy matplotlib"
      ],
      "metadata": {
        "collapsed": true,
        "id": "MKJ6Bw3at8ia"
      },
      "id": "MKJ6Bw3at8ia",
      "execution_count": null,
      "outputs": []
    },
    {
      "cell_type": "code",
      "source": [
        "\n",
        "import pandas as pd\n",
        "import numpy as np\n",
        "from sklearn.feature_extraction.text import TfidfVectorizer\n",
        "from rank_bm25 import BM25Okapi\n",
        "from konlpy.tag import Okt\n",
        "import networkx as nx\n",
        "\n",
        "# 1. 형태소 분석기 준비\n",
        "okt = Okt()\n",
        "\n",
        "# 2. 예제 문서 (간단한 뉴스 데이터처럼 구성)\n",
        "documents = [\n",
        "    \"고양이는 매우 귀엽고 사람들과 잘 어울립니다.\",\n",
        "    \"인공지능은 다양한 산업에서 활용되고 있습니다.\",\n",
        "    \"딥러닝 기술은 이미지와 음성 인식에서 큰 성과를 보이고 있습니다.\",\n",
        "    \"강아지는 충성스럽고 사람을 잘 따릅니다.\",\n",
        "    \"자율주행 자동차는 인공지능을 기반으로 동작합니다.\"\n",
        "]\n",
        "\n",
        "doc_ids = list(range(len(documents)))\n",
        "\n",
        "# 3. 쿼리 입력 및 형태소 분석 기반 토크나이징\n",
        "query = \"AI 자율주행 기술\"\n",
        "tokenized_query = okt.morphs(query)\n",
        "\n",
        "# 4. TF-IDF 기반 검색\n",
        "# TF-IDF는 띄어쓰기 단위로만 처리하므로 별도 토크나이징 불필요\n",
        "vectorizer = TfidfVectorizer()\n",
        "tfidf_matrix = vectorizer.fit_transform(documents)\n",
        "query_vector = vectorizer.transform([query])\n",
        "cosine_sim = (tfidf_matrix * query_vector.T).toarray().flatten()\n",
        "\n",
        "# 5. BM25 기반 검색 (Okt로 토크나이징된 버전 사용)\n",
        "tokenized_corpus = [okt.morphs(doc) for doc in documents]\n",
        "bm25 = BM25Okapi(tokenized_corpus)\n",
        "bm25_scores = bm25.get_scores(tokenized_query)\n",
        "\n",
        "# 5. PageRank 계산을 위한 문서 링크 그래프 구성 (예시: 수동 설정)\n",
        "# 현실에서는 하이퍼링크, 인용, 관련도 등을 기반으로 구성\n",
        "edges = [(0, 1), (1, 2), (2, 4), (3, 0), (4, 1)]  # doc 간 연결\n",
        "G = nx.DiGraph()\n",
        "G.add_edges_from(edges)\n",
        "pagerank_scores = nx.pagerank(G)\n",
        "\n",
        "# 6. 점수 통합 및 결과 출력\n",
        "results = []\n",
        "for i, (tfidf_score, bm25_score) in enumerate(zip(cosine_sim, bm25_scores)):\n",
        "    page_score = pagerank_scores.get(i, 0)\n",
        "    combined_score = bm25_score * page_score  # PageRank를 가중치로 곱함\n",
        "    results.append({\n",
        "        \"문서 ID\": i,\n",
        "        \"문서 내용\": documents[i],\n",
        "        \"TF-IDF 점수\": round(tfidf_score, 4),\n",
        "        \"BM25 점수\": round(bm25_score, 4),\n",
        "        \"PageRank 점수\": round(page_score, 4),\n",
        "        \"최종 점수\": round(combined_score, 4)\n",
        "    })\n",
        "\n",
        "df = pd.DataFrame(results)\n",
        "df_sorted = df.sort_values(by=\"최종 점수\", ascending=False).reset_index(drop=True)\n",
        "\n",
        "from IPython.display import display\n",
        "display(df_sorted)\n",
        "\n"
      ],
      "metadata": {
        "id": "pUKvTqbswx1d"
      },
      "id": "pUKvTqbswx1d",
      "execution_count": null,
      "outputs": []
    },
    {
      "cell_type": "code",
      "source": [
        "!pip install matplotlib"
      ],
      "metadata": {
        "id": "RbHdZkCQ4ADb"
      },
      "id": "RbHdZkCQ4ADb",
      "execution_count": null,
      "outputs": []
    },
    {
      "cell_type": "code",
      "source": [
        "'''\n",
        "PageRank 시각화\n",
        "'''\n",
        "import matplotlib.pyplot as plt\n",
        "import matplotlib.cm as cm\n",
        "import matplotlib.colors as colors\n",
        "\n",
        "# 7. PageRank 시각화\n",
        "fig, ax = plt.subplots(figsize=(5, 4))\n",
        "\n",
        "# 노드 위치 자동 설정\n",
        "pos = nx.spring_layout(G, seed=42)\n",
        "\n",
        "# 노드 크기 및 색상 설정\n",
        "node_sizes = [pagerank_scores[node] * 3000 for node in G.nodes()]\n",
        "node_colors = [pagerank_scores[node] for node in G.nodes()]\n",
        "\n",
        "# 정규화 객체\n",
        "norm = colors.Normalize(vmin=min(node_colors), vmax=max(node_colors))\n",
        "sm = cm.ScalarMappable(cmap=plt.cm.Blues, norm=norm)\n",
        "sm.set_array(node_colors)\n",
        "\n",
        "# 그래프 그리기 (명시적으로 ax 지정)\n",
        "nx.draw_networkx_nodes(G, pos, ax=ax,\n",
        "                       node_size=node_sizes,\n",
        "                       node_color=node_colors,\n",
        "                       cmap=plt.cm.Blues)\n",
        "nx.draw_networkx_edges(G, pos, ax=ax, arrowstyle='->', arrowsize=15)\n",
        "nx.draw_networkx_labels(G, pos, ax=ax,\n",
        "                        labels={i: f'Doc{i}' for i in G.nodes()},\n",
        "                        font_size=12)\n",
        "\n",
        "# 컬러바 추가 (ax 지정)\n",
        "cbar = fig.colorbar(sm, ax=ax)\n",
        "cbar.set_label(\"PageRank 점수\")\n",
        "\n",
        "ax.set_title(\"문서 간 연결 구조 및 PageRank 시각화\", fontsize=14)\n",
        "ax.axis('off')\n",
        "plt.tight_layout()\n",
        "plt.show()\n",
        "\n"
      ],
      "metadata": {
        "id": "4g0BL7W43VCf"
      },
      "id": "4g0BL7W43VCf",
      "execution_count": null,
      "outputs": []
    },
    {
      "cell_type": "markdown",
      "source": [
        "- **AI 검색 알고리즘 시뮬레이션 예** :"
      ],
      "metadata": {
        "id": "twCkQubotYsm"
      },
      "id": "twCkQubotYsm"
    },
    {
      "cell_type": "code",
      "source": [
        "!pip install sentence-transformers faiss-cpu numpy pandas"
      ],
      "metadata": {
        "collapsed": true,
        "id": "I4wXdmu-tln-"
      },
      "id": "I4wXdmu-tln-",
      "execution_count": null,
      "outputs": []
    },
    {
      "cell_type": "code",
      "source": [
        "from sentence_transformers import SentenceTransformer, util\n",
        "import faiss\n",
        "import numpy as np\n",
        "import pandas as pd\n",
        "\n",
        "import warnings\n",
        "warnings.filterwarnings(\"ignore\", category=UserWarning)\n",
        "\n",
        "\n",
        "# 1. 예제 문서 준비 (DB 역할)\n",
        "documents = [\n",
        "    \"고양이는 귀여운 동물입니다.\",\n",
        "    \"강아지는 사람과 친근합니다.\",\n",
        "    \"자율 주행 자동차는 AI를 사용합니다.\",\n",
        "    \"딥러닝은 신경망을 이용한 기계 학습 기술입니다.\",\n",
        "    \"자연어처리는 인간 언어를 이해하는 AI 기술입니다.\"\n",
        "]\n",
        "doc_ids = list(range(len(documents)))\n",
        "\n",
        "\n",
        "# 2. 모델 로딩 및 임베딩 생성 (Dense Vector) : Hugging Face 모\n",
        "model = SentenceTransformer('sentence-transformers/all-MiniLM-L6-v2')\n",
        "document_embeddings = model.encode(documents, convert_to_numpy=True)\n",
        "\n",
        "\n",
        "# 3. FAISS 인덱스 생성 (Dense Indexing)\n",
        "dimension = document_embeddings.shape[1]\n",
        "index = faiss.IndexFlatL2(dimension)\n",
        "index.add(document_embeddings)  # 문서 벡터 저장\n",
        "\n",
        "\n",
        "# 4. 사용자 쿼리 입력 및 임베딩 생성\n",
        "query = \"AI를 활용한 언어 분석 기술\"\n",
        "query_embedding = model.encode([query], convert_to_numpy=True)\n",
        "\n",
        "\n",
        "# 5. 유사한 문서 검색 (Top-k Retrieval)\n",
        "k = 3\n",
        "D, I = index.search(query_embedding, k)  # 거리(D), 인덱스(I)\n",
        "\n",
        "# 6. 결과 출력 (간단한 Ranking 포함)\n",
        "results = []\n",
        "for rank, (doc_idx, distance) in enumerate(zip(I[0], D[0]), 1):\n",
        "    results.append({\n",
        "        \"순위\": rank,\n",
        "        \"문서\": documents[doc_idx],\n",
        "        \"거리(L2 norm)\": round(float(distance), 4)\n",
        "    })\n",
        "\n",
        "# Pandas로 보기 좋게 출력\n",
        "df = pd.DataFrame(results)\n",
        "display(df)\n"
      ],
      "metadata": {
        "id": "5vr1Gl78tZKt"
      },
      "id": "5vr1Gl78tZKt",
      "execution_count": null,
      "outputs": []
    },
    {
      "cell_type": "markdown",
      "source": [
        "\n",
        "\n",
        "---\n",
        "\n"
      ],
      "metadata": {
        "id": "GzdLBkwCu7JH"
      },
      "id": "GzdLBkwCu7JH"
    },
    {
      "cell_type": "markdown",
      "source": [
        "### 2) 주요 탐색 알고리즘 예 :"
      ],
      "metadata": {
        "id": "bmUavBD8Vy2n"
      },
      "id": "bmUavBD8Vy2n"
    },
    {
      "cell_type": "markdown",
      "source": [
        "\n",
        "|분류 기준|알고리즘 유형|사용 자료구조|정렬 필요 여부|시간 복잡도 (평균/최악)|공간 복잡도|특징 및 용도|\n",
        "|--|--|--|--|--|--|--|\n",
        "|선형 탐색 여부|선형 탐색 (Linear Search)|리스트, 배열|❌ 불필요|O(n) / O(n)|O(1)|\"단순 반복으로 탐색, 데이터가 적을 때 유리\"|\n",
        "|선형 탐색 여부|이진 탐색 (Binary Search)|정렬된 배열|✅ 필요|O(log n) / O(log n)|O(1)|정렬된 데이터에서 빠르게 탐색 가능|\n",
        "|해시 기반 탐색|해시 탐색 (Hash Search)|해시 테이블 (dict)|❌ 불필요|O(1) / O(n)|O(n)|\"키 기반 탐색, 충돌 시 성능 저하 가능\"|\n",
        "|트리 기반 탐색|이진 탐색 트리 (BST)|트리 구조|❌ 불필요|O(log n) / O(n)|O(n)|\"정렬+탐색을 모두 지원, 불균형 트리의 경우 성능 저하\"|\n",
        "|트리 기반 탐색|AVL / Red-Black Tree|균형 이진 탐색 트리|❌ 불필요|O(log n) / O(log n)|O(n)|균형 유지로 최악의 경우에도 빠른 탐색 가능|\n",
        "|그래프 기반 탐색|DFS (깊이 우선 탐색)|스택, 그래프|❌ 불필요|O(V + E)|O(V)|\"미로, 백트래킹, 순열 문제 등에 유용\"|\n",
        "|그래프 기반 탐색|BFS (너비 우선 탐색)|큐, 그래프|❌ 불필요|O(V + E)|O(V)|\"최단 거리 탐색, 그래프 레벨 탐색에서 유용\"|\n",
        "|문자열 탐색|KMP, Rabin-Karp 등|문자열|❌ 불필요|O(n + m) 등|O(m) 이상|\"문자열 패턴 매칭, 정보 검색 시스템에 활용\"|\n",
        "|현대적 검색 알고리즘|BM25, BERT reranker 등|역색인, 신경망 등|❌ 불필요|\"수치 기반, 근사 검색\"|모델 의존|\"구글, 챗봇 등에서 자연어 기반 검색에 사용\"|\n",
        "\n"
      ],
      "metadata": {
        "id": "sL2jqkdvUPYb"
      },
      "id": "sL2jqkdvUPYb"
    },
    {
      "cell_type": "markdown",
      "id": "6bc78521-40dd-4bae-8140-21412c78ede4",
      "metadata": {
        "id": "6bc78521-40dd-4bae-8140-21412c78ede4"
      },
      "source": [
        "-----"
      ]
    },
    {
      "cell_type": "markdown",
      "source": [
        "### @테스트 데이터 정의"
      ],
      "metadata": {
        "id": "TW0NbDiIYlHt"
      },
      "id": "TW0NbDiIYlHt"
    },
    {
      "cell_type": "code",
      "source": [
        "import numpy as np\n",
        "\n",
        "# 1.숫자 데이터: 균등 정렬\n",
        "arr = list(range(0, 1001, 10))  # 0, 10, ..., 1000\n",
        "target = 420\n",
        "\n",
        "# 2.NumPy 배열 데이터: 균등 정렬\n",
        "arr_np = np.arange(-100, 100, 10)  # array([-100, -90, ..., 90])\n",
        "target_np = -60\n",
        "\n",
        "# 3.영어 단어 데이터: 사전순 정렬\n",
        "english_words = sorted([\n",
        "    \"apple\", \"banana\", \"cherry\", \"date\", \"fig\", \"grape\",\n",
        "    \"kiwi\", \"lemon\", \"mango\", \"orange\", \"peach\", \"plum\", \"quince\"\n",
        "])\n",
        "target_english = \"lemon\"\n",
        "\n",
        "# 4.한글 단어 데이터: 초성순 정렬\n",
        "korean_words = sorted([\n",
        "    \"가방\", \"나무\", \"다리\", \"라디오\", \"마을\", \"바다\", \"사과\",\n",
        "    \"아침\", \"자전거\", \"차례\", \"카메라\", \"타자기\", \"파도\", \"하늘\"\n",
        "])\n",
        "target_korean = \"자전거\""
      ],
      "metadata": {
        "id": "fMQrCDFpYxOc"
      },
      "id": "fMQrCDFpYxOc",
      "execution_count": null,
      "outputs": []
    },
    {
      "cell_type": "markdown",
      "source": [
        "\n",
        "\n",
        "---\n",
        "\n"
      ],
      "metadata": {
        "id": "X_zvTXudYxdr"
      },
      "id": "X_zvTXudYxdr"
    },
    {
      "cell_type": "markdown",
      "id": "017d9435-2e3e-49b1-a506-1fcb088206dd",
      "metadata": {
        "id": "017d9435-2e3e-49b1-a506-1fcb088206dd"
      },
      "source": [
        "## 1-2. 선형 탐색(Linear Search)\n",
        "\n"
      ]
    },
    {
      "cell_type": "markdown",
      "source": [
        "- 배열의 처음부터 끝까지 순차적으로 모든 요소를 확인 --> 순차 탐색(Sequential search)\n",
        "- 정렬되지 않은 데이터에서도 사용 가능\n",
        "- 가장 단순한 탐색 방법  \n",
        "- 시간 복잡도 : 𝑂(𝑛)   \n",
        "    - 최선의 경우: O(1) - 첫 번째 요소가 찾는 값일 때\n",
        "    - 평균/최악의 경우: O(n) - n은 배열의 크기"
      ],
      "metadata": {
        "id": "ixuVf7aqV9HL"
      },
      "id": "ixuVf7aqV9HL"
    },
    {
      "cell_type": "markdown",
      "id": "b304ac06-8dbf-44d3-bf5b-1d315f30e5b9",
      "metadata": {
        "id": "b304ac06-8dbf-44d3-bf5b-1d315f30e5b9"
      },
      "source": [
        "### 1) 선형 탐색 알고리즘"
      ]
    },
    {
      "cell_type": "code",
      "execution_count": null,
      "id": "dff013a1-1423-43fb-8d56-02de0a85399c",
      "metadata": {
        "id": "dff013a1-1423-43fb-8d56-02de0a85399c"
      },
      "outputs": [],
      "source": [
        "def linear_search(A, target):\n",
        "    for i in range(len(A)): # 시작, 요소 확인\n",
        "        if A[i] == target: # 탐색 성공하면\n",
        "            return i    # 값의 인덱스 반환\n",
        "    return -1           # 찾지 못한 경우 -1 반환\n",
        "\n",
        "\n",
        "arr = [ 3, 9, 15, 22, 31, 55, 67, 88, 91 ]\n",
        "target = 22   # 찾는 값\n",
        "msg = f'''입력 배열 = {arr}\\n찾는 숫자 = {target}\\n'''\n",
        "print(f\"{msg}#linear_search(idx): {linear_search(arr, target)}\" )"
      ]
    },
    {
      "cell_type": "markdown",
      "source": [
        "- 공통 데이터 테스트"
      ],
      "metadata": {
        "id": "1wS41l7uZJ6L"
      },
      "id": "1wS41l7uZJ6L"
    },
    {
      "cell_type": "code",
      "source": [
        "import numpy as np\n",
        "\n",
        "def test_search(search_func, data, target, label=\"데이터\", sort_show=False):\n",
        "    '''\n",
        "    search_func : 탐색 함수명,\n",
        "    data        : 탐색 데이터,\n",
        "    target      : 찾는 값,\n",
        "    label       : 데이터 설명\n",
        "    '''\n",
        "    # 원본 데이터 복사\n",
        "    test_data = np.copy(data) if isinstance(data, np.ndarray) else list(data)\n",
        "    test_target = target\n",
        "\n",
        "    # 탐색 수행\n",
        "    result = search_func(test_data, test_target)\n",
        "\n",
        "    # 기대 결과 계산\n",
        "    if isinstance(data, np.ndarray):\n",
        "        expected = np.where(test_data == test_target)[0] if test_target in test_data else -1\n",
        "    else:\n",
        "        expected = test_data.index(test_target) if test_target in test_data else -1\n",
        "\n",
        "    # 비교 결과 출력\n",
        "    passed = True if expected == result else False\n",
        "    print(f\"[{search_func.__name__}] {label}에서 '{target}' 탐색: idx={expected} {'✅ PASS' if passed else '❌ FAIL'}\")\n",
        "    if not passed:\n",
        "        print(\"Expected:\", expected)\n",
        "        print(\"Got     :\", result)\n",
        "\n",
        "    if sort_show:\n",
        "        print(f\" data= {data}\")\n",
        "        print(f\" target= {target}\")\n",
        "\n",
        "\n",
        "test_search(linear_search, arr, target, \"숫자 데이터\", True)\n",
        "test_search(linear_search, arr_np, target_np, \"Numpy 음수 데이터\", True)\n",
        "test_search(linear_search, english_words, target_english, \"영어 단어 데이터\", True)\n",
        "test_search(linear_search, korean_words, target_korean, \"한글 단어 데이터\", True)"
      ],
      "metadata": {
        "id": "DJbVXgxUZL-r"
      },
      "id": "DJbVXgxUZL-r",
      "execution_count": null,
      "outputs": []
    },
    {
      "cell_type": "markdown",
      "id": "db875e05-1eb5-43b9-9078-8a62e5bf63ec",
      "metadata": {
        "id": "db875e05-1eb5-43b9-9078-8a62e5bf63ec"
      },
      "source": [
        "### 2) 선형 탐색 개선 방법"
      ]
    },
    {
      "cell_type": "markdown",
      "source": [
        "- 빈도 기반 최적화 (Move-To-Front / Self-Organizing List)\n",
        "    - **자주 탐색되는 항목을 배열 앞부분으로 옮겨** 성능을 높이는 방식\n",
        "    - 장점: 반복적으로 탐색이 일어나는 경우 탐색 시간 감소"
      ],
      "metadata": {
        "id": "VELbEKmekP4D"
      },
      "id": "VELbEKmekP4D"
    },
    {
      "cell_type": "code",
      "source": [
        "def move_to_front_search(A, target):\n",
        "    for i in range(len(A)):\n",
        "        if A[i] == target:\n",
        "            A.insert(0, A.pop(i))  # 맨 앞으로 이동\n",
        "            return 0\n",
        "    return -1\n",
        "\n",
        "arr = list(range(0, 1001, 10))  # 0, 10, ..., 1000\n",
        "target = 420\n",
        "print(f\"#linear_search(idx)[Move-To-Front]: {move_to_front_search(arr, target)}\\n{arr}\" )\n"
      ],
      "metadata": {
        "id": "LWioexHNkUm-"
      },
      "id": "LWioexHNkUm-",
      "execution_count": null,
      "outputs": []
    },
    {
      "cell_type": "code",
      "source": [
        "# list와 ndarray 가 모두 적용될 수 있도록 코드 수\n",
        "def move_to_front_search(A, target):\n",
        "    # list일 경우\n",
        "    if isinstance(A, list):\n",
        "        for i in range(len(A)):\n",
        "            if A[i] == target:\n",
        "                A.insert(0, A.pop(i))  # 맨 앞으로 이동\n",
        "                return 0\n",
        "        return -1\n",
        "    # numpy ndarray 일 경우\n",
        "    elif isinstance(A, np.ndarray):\n",
        "        idx = np.where(A == target)[0]\n",
        "        if len(idx) == 0:\n",
        "            return -1\n",
        "        i = idx[0]\n",
        "        # Numpy는 변경 불가능하므로 새 배열을 생성\n",
        "        A[:] = np.insert(np.delete(A, i), 0, target)  # 원본 수정\n",
        "        return 0"
      ],
      "metadata": {
        "id": "z1Q04qwun5gF"
      },
      "id": "z1Q04qwun5gF",
      "execution_count": null,
      "outputs": []
    },
    {
      "cell_type": "code",
      "source": [
        "# 공통 데이터 테스트\n",
        "test_search(move_to_front_search, arr, target, \"숫자 데이터\")\n",
        "test_search(move_to_front_search, arr_np, target_np, \"Numpy 음수 데이터\")\n",
        "test_search(move_to_front_search, english_words, target_english, \"영어 단어 데이터\")\n",
        "test_search(move_to_front_search, korean_words, target_korean, \"한글 단어 데이터\")"
      ],
      "metadata": {
        "id": "MVpvYUHueWAu"
      },
      "id": "MVpvYUHueWAu",
      "execution_count": null,
      "outputs": []
    },
    {
      "cell_type": "markdown",
      "source": [
        "- 교환하기 전략 추가\n",
        "    - 탐색된 레코드를 바로 앞의 레코드와 교환하는 전략"
      ],
      "metadata": {
        "id": "qMATmnDWkUv3"
      },
      "id": "qMATmnDWkUv3"
    },
    {
      "cell_type": "code",
      "execution_count": null,
      "id": "b465d1e4-5bcc-4197-b69f-e47dad672a8d",
      "metadata": {
        "id": "b465d1e4-5bcc-4197-b69f-e47dad672a8d"
      },
      "outputs": [],
      "source": [
        "def sequential_search_transpose(A, target) :\n",
        "\tlow, high = 0, len(A)-1\n",
        "\n",
        "\tfor i in range(low, high+1) :\n",
        "\t\tif A[i] == target :\n",
        "\t\t\tif i > low :\t\t\t# 맨 처음 요소가 아니면 이전 요소와 교환\n",
        "\t\t\t\tA[i], A[i-1] = A[i-1], A[i]\n",
        "\t\t\t\ti = i - 1\n",
        "\t\t\treturn i\t\t\t\t# 탐색에 성공하면 키 값의 인덱스 반환\n",
        "\treturn -1\t\t\t\t\t\t# 탐색에 실패하면 -1 반환\n",
        "\n",
        "arr = list(range(0, 1001, 10))  # 0, 10, ..., 1000\n",
        "target = 420\n",
        "print(f\"#linear_search(idx)[교환 적용]: {sequential_search_transpose(arr, target)}\\n{arr}\" )"
      ]
    },
    {
      "cell_type": "code",
      "source": [
        "# 공통 데이터 테스트\n",
        "test_search(sequential_search_transpose, arr, target, \"숫자 데이터\")\n",
        "test_search(sequential_search_transpose, arr_np, target_np, \"Numpy 음수 데이터\")\n",
        "test_search(sequential_search_transpose, english_words, target_english, \"영어 단어 데이터\")\n",
        "test_search(sequential_search_transpose, korean_words, target_korean, \"한글 단어 데이터\")"
      ],
      "metadata": {
        "id": "MiBI5v-Qegu2"
      },
      "id": "MiBI5v-Qegu2",
      "execution_count": null,
      "outputs": []
    },
    {
      "cell_type": "markdown",
      "source": [
        "- 정렬 + 이진 탐색으로 대체\n",
        "    - 데이터가 정렬 가능하거나 자주 탐색이 필요한 경우,\n",
        "미리 정렬한 후 이진 탐색으로 대체"
      ],
      "metadata": {
        "id": "jS-Sb9YNoZ-g"
      },
      "id": "jS-Sb9YNoZ-g"
    },
    {
      "cell_type": "code",
      "source": [
        "arr.sort()\n",
        "index = binary_search(arr, key)\n",
        "# [주의!]  binary_search가 정의된 이후에 사용 가능하다."
      ],
      "metadata": {
        "id": "c3SQs225opw5"
      },
      "id": "c3SQs225opw5",
      "execution_count": null,
      "outputs": []
    },
    {
      "cell_type": "markdown",
      "source": [
        "### @테스트 함수 최적화\n",
        "- 리스트와 반복문을 이용하여 여러 개의 탐색 함수를 반복해서 호출하여 테스트 진행\n",
        "- 탐색 함수 목록 sort_algorithms = [linear_search, move_to_front_search, sequential_search_transpose]"
      ],
      "metadata": {
        "id": "AoLXOn_Ai2ev"
      },
      "id": "AoLXOn_Ai2ev"
    },
    {
      "cell_type": "code",
      "source": [
        "import numpy as np\n",
        "\n",
        "# -------------------------------\n",
        "# 테스트 케이스 리스트\n",
        "# -------------------------------\n",
        "test_cases = [\n",
        "    (arr, target, \"숫자 데이터\"),\n",
        "    (arr_np, target_np, \"Numpy 음수 데이터\"),\n",
        "    (english_words, target_english, \"영어 단어 데이터\"),\n",
        "    (korean_words, target_korean, \"한글 단어 데이터\"),\n",
        "]\n",
        "\n",
        "# -------------------------------\n",
        "# 알고리즘 반복 테스트\n",
        "# -------------------------------\n",
        "sort_algorithms = [linear_search, move_to_front_search, sequential_search_transpose]\n",
        "\n",
        "for sort_func in sort_algorithms:\n",
        "    print(f\"\\n🔎 Testing: {sort_func.__name__}\")\n",
        "    for data, target, label in test_cases:\n",
        "        test_search(sort_func, data, target, label)"
      ],
      "metadata": {
        "id": "rVgQz9VhjYbH"
      },
      "id": "rVgQz9VhjYbH",
      "execution_count": null,
      "outputs": []
    },
    {
      "cell_type": "markdown",
      "id": "9d64eef6-a0f6-4dca-8d86-3609054e71e4",
      "metadata": {
        "id": "9d64eef6-a0f6-4dca-8d86-3609054e71e4"
      },
      "source": [
        "------------------------"
      ]
    },
    {
      "cell_type": "markdown",
      "id": "c0bf4803-de1b-4da8-bcc1-081f3c8f39d0",
      "metadata": {
        "id": "c0bf4803-de1b-4da8-bcc1-081f3c8f39d0"
      },
      "source": [
        "## 1-3. 이진 탐색(Binary Search)\n"
      ]
    },
    {
      "cell_type": "markdown",
      "source": [
        "- 테이블이 정렬되어 있을 때 사용\n",
        "- 정렬된 테이블에서 중간 값을 찾아 찾고자 하는 값과 비교하여\n",
        "검색 범위를 반으로 줄여가는 방식으로 동작\n",
        "- 재귀 / 반복 둘 다 구현 가능\n",
        "- 선형 탐색보다 효율적인 탐색 방법\n",
        "- 탐색 과정을 트리 구조로 시각화  \n",
        "- 시간 복잡도: 𝑂(log⁡𝑛)  \n",
        "    - 최선/평균/최악의 경우: O(log n)\n",
        "    - 매 단계마다 탐색 범위가 절반으로 줄어듦"
      ],
      "metadata": {
        "id": "VTc140bFqKr4"
      },
      "id": "VTc140bFqKr4"
    },
    {
      "cell_type": "markdown",
      "id": "bf1fee57-fe27-4673-9a8a-0d64fef7b5be",
      "metadata": {
        "id": "bf1fee57-fe27-4673-9a8a-0d64fef7b5be"
      },
      "source": [
        "### 1) 이진 탐색 알고리즘"
      ]
    },
    {
      "cell_type": "markdown",
      "source": [
        "- 방법1 : 반복 구조"
      ],
      "metadata": {
        "id": "s0djMIFzr30z"
      },
      "id": "s0djMIFzr30z"
    },
    {
      "cell_type": "code",
      "source": [
        "def binary_search(A, target):\n",
        "    left, right = 0, len(A) - 1\n",
        "\n",
        "    while left <= right:\n",
        "        mid = (left + right) // 2\n",
        "\n",
        "        if A[mid] == target:\n",
        "            return mid      # 찾은 요소의 인덱스 반환\n",
        "        elif A[mid] < target:\n",
        "            left = mid + 1  # 오른쪽 반에서 탐색\n",
        "        else:\n",
        "            right = mid - 1 # 왼쪽 반에서 탐색\n",
        "\n",
        "    return -1  # 요소를 찾지 못한 경우\n",
        "\n",
        "arr = list(range(0, 1001, 10))  # 0, 10, ..., 1000\n",
        "target = 420\n",
        "print(f\"#binary_search(idx): {binary_search(arr, target)}\" )"
      ],
      "metadata": {
        "id": "sJ8EhWBhqF2o"
      },
      "id": "sJ8EhWBhqF2o",
      "execution_count": null,
      "outputs": []
    },
    {
      "cell_type": "markdown",
      "source": [
        "- 방법2 : 순환 구조(재귀)"
      ],
      "metadata": {
        "id": "p0SQ7Ufnr6Z3"
      },
      "id": "p0SQ7Ufnr6Z3"
    },
    {
      "cell_type": "code",
      "execution_count": null,
      "id": "c88d3a95-2074-4754-9414-e56c30aefd17",
      "metadata": {
        "id": "c88d3a95-2074-4754-9414-e56c30aefd17"
      },
      "outputs": [],
      "source": [
        "def binary_search_recursive(A, target, left, right) :\n",
        "    if left <= right :\t\t        # 기저(종료) 조건: 왼쪽값이 크거나 같으면\n",
        "        middle = (left + right)//2  # 중간 인덱스 계산\n",
        "        if target == A[middle] :\t    # 중간 값이 타겟과 일치하는 경우\n",
        "            return middle\n",
        "        elif (target < A[middle]) :\t# 중간 값이 타겟보다 큰 경우\n",
        "            return binary_search_recursive(A, target, left, middle - 1)\n",
        "        else :\t\t\t            # 중간 값이 타겟보다 작은 경우\n",
        "            return binary_search_recursive(A, target, middle + 1, right)\n",
        "    return -1\n",
        "\n",
        "arr = list(range(0, 1001, 10))  # 0, 10, ..., 1000\n",
        "target = 420\n",
        "print(f\"#binary_search_recursive(idx): {binary_search_recursive(arr, target, 0, len(arr)-1)}\" )"
      ]
    },
    {
      "cell_type": "markdown",
      "id": "7930dba5-38b0-4664-bc22-916dcd50e368",
      "metadata": {
        "id": "7930dba5-38b0-4664-bc22-916dcd50e368"
      },
      "source": [
        "### 2) 이진 탐색 개선 방법 : 보간 탐색"
      ]
    },
    {
      "cell_type": "markdown",
      "source": [
        "- 이진 탐색의 일종,  \n",
        "- **정렬된 배열에서 데이터의 분포가 균등할 때 탐색** 이진 탐색보다 더 빠르게 탐색\n",
        "- 값의 크기를 고려하여 **예상 위치(pos)**를 추정\n",
        "- 핵심 아이디어(예상 위치 계산)\n",
        "- $pos = low$ + $\\frac{(high-low) * (key-A[low])} { (A[high]-A[low])}$"
      ],
      "metadata": {
        "id": "LdKNYEszKHC0"
      },
      "id": "LdKNYEszKHC0"
    },
    {
      "cell_type": "code",
      "execution_count": null,
      "id": "6fd2ec89-b3d8-4fc4-a984-afae62474987",
      "metadata": {
        "id": "6fd2ec89-b3d8-4fc4-a984-afae62474987"
      },
      "outputs": [],
      "source": [
        "# 방법1 : A, target가 숫자 데이터일 경우에 동작하는 코드\n",
        "def binary_interpolation_search(A, target):\n",
        "    left, right = 0, len(A) - 1\n",
        "\n",
        "    while left <= right and A[left] <= target <= A[right]:\n",
        "        if A[right] == A[left]:       # 분모가 0이 되지 않도록 체크\n",
        "            if A[left] == target:\n",
        "                return left\n",
        "            else:\n",
        "                return -1\n",
        "\n",
        "        # 보간 위치 계산\n",
        "        pos = left + ((target - A[left]) * (right - left)) // (A[right] - A[left])\n",
        "\n",
        "        if pos < 0 or pos >= len(A):\n",
        "            return -1  # 예외 처리\n",
        "\n",
        "        if A[pos] == target:\n",
        "            return pos\n",
        "        elif A[pos] < target:\n",
        "            left = pos + 1\n",
        "        else:\n",
        "            right = pos - 1\n",
        "\n",
        "    return -1  # 찾지 못한 경우\n",
        "\n",
        "arr = list(range(0, 1001, 10))  # 0, 10, ..., 1000\n",
        "target = 420\n",
        "print(f\"#binary_interpolation_search(idx): {binary_interpolation_search(arr, target)}\" )\n"
      ]
    },
    {
      "cell_type": "code",
      "source": [
        "# 방법2 : A, target가 숫자 , 영문, 한글 데이터일 경우에도 동작하는 코드\n",
        "def binary_interpolation_search(A, target):\n",
        "    def to_number(x):\n",
        "        if isinstance(x, str):\n",
        "            return ord(x[0])  # 문자열인 경우 첫 글자의 유니코드 값\n",
        "        return x              # 숫자형 그대로 반환\n",
        "\n",
        "    left, right = 0, len(A) - 1\n",
        "\n",
        "    target_val = to_number(target)           # 데이터를 숫자화 한다.\n",
        "\n",
        "    while left <= right and to_number(A[left]) <= target_val <= to_number(A[right]):\n",
        "        left_val = to_number(A[left])       # 데이터를 숫자화 한다.\n",
        "        right_val = to_number(A[right])     # 데이터를 숫자화 한다.\n",
        "\n",
        "        if right_val == left_val:\n",
        "            if A[left] == target:\n",
        "                return left\n",
        "            else:\n",
        "                return -1\n",
        "\n",
        "        # 숫자화한 데이터로 계산\n",
        "        pos = left + ((target_val - left_val) * (right - left)) // (right_val - left_val)\n",
        "\n",
        "        if pos < 0 or pos >= len(A):\n",
        "            return -1\n",
        "\n",
        "        if A[pos] == target:\n",
        "            return pos\n",
        "        elif to_number(A[pos]) < target_val:\n",
        "            left = pos + 1\n",
        "        else:\n",
        "            right = pos - 1\n",
        "\n",
        "    return -1\n"
      ],
      "metadata": {
        "id": "Ihfw9BK0rCYC"
      },
      "id": "Ihfw9BK0rCYC",
      "execution_count": null,
      "outputs": []
    },
    {
      "cell_type": "code",
      "source": [
        "# 공통 데이터 테스트\n",
        "sort_algorithms = [binary_search, binary_interpolation_search]\n",
        "\n",
        "for sort_func in sort_algorithms:\n",
        "    print(f\"\\n🔎 Testing: {sort_func.__name__}\")\n",
        "    for data, target, label in test_cases:\n",
        "        test_search(sort_func, data, target, label)"
      ],
      "metadata": {
        "id": "JpZBpI4JpDnA"
      },
      "id": "JpZBpI4JpDnA",
      "execution_count": null,
      "outputs": []
    },
    {
      "cell_type": "markdown",
      "source": [
        "### 3) 이진 탐색 vs 보간 탐색 비교 --------------"
      ],
      "metadata": {
        "id": "m5cL_2yHPERO"
      },
      "id": "m5cL_2yHPERO"
    },
    {
      "cell_type": "markdown",
      "source": [
        "- 이진 탐색 (추적)"
      ],
      "metadata": {
        "id": "c1_O-TxaPIDd"
      },
      "id": "c1_O-TxaPIDd"
    },
    {
      "cell_type": "code",
      "source": [
        "def binary_search_steps(A, target):\n",
        "    left, right = 0, len(A) - 1\n",
        "    steps = 0       # 탐색 단계 추적을 위한 변수\n",
        "\n",
        "    while left <= right:\n",
        "        mid = (left + right) // 2\n",
        "        steps += 1  # 탐색 단계 증가\n",
        "        print(f\"[Binary Step {steps}] mid: {mid}, value: {A[mid]}\")\n",
        "\n",
        "        if A[mid] == target:\n",
        "            return mid, steps      # 찾은 요소의 인덱스 반환\n",
        "        elif A[mid] < target:\n",
        "            left = mid + 1  # 오른쪽 반에서 탐색\n",
        "        else:\n",
        "            right = mid - 1 # 왼쪽 반에서 탐색\n",
        "\n",
        "    return -1, steps  # 요소를 찾지 못한 경우\n",
        "\n",
        "# 탐색 예시\n",
        "arr = list(range(0, 10001, 10))  # 0, 10, 20, ..., 10000 (총 1001개 요소)\n",
        "target = 9000       # 비교 대상: 리스트 중간보다 다소 뒤쪽\n",
        "\n",
        "print(f'arr={arr}\\ntarget={target}\\n')\n",
        "print(f\"\\n#binary_search_iter(idx, steps): {binary_search_steps(arr, target)}\" )"
      ],
      "metadata": {
        "id": "Cz6DaL8TPP1h"
      },
      "id": "Cz6DaL8TPP1h",
      "execution_count": null,
      "outputs": []
    },
    {
      "cell_type": "markdown",
      "source": [
        "- 보간 탐색 (추적)"
      ],
      "metadata": {
        "id": "nEz9as1KPLbq"
      },
      "id": "nEz9as1KPLbq"
    },
    {
      "cell_type": "code",
      "source": [
        "def binary_interpolation_search_steps(A, target):\n",
        "    left, right = 0, len(A) - 1\n",
        "    steps = 0       # 탐색 단계 추적을 위한 변수\n",
        "\n",
        "    while left <= right and A[left] <= target <= A[right]:\n",
        "        steps += 1\n",
        "        if A[right] == A[left]:       # 분모가 0이 되지 않도록 체크\n",
        "            if A[left] == target:\n",
        "                return left, steps\n",
        "            else:\n",
        "                return -1, steps\n",
        "\n",
        "        # 보간 위치 계산\n",
        "        pos = left + ((target - A[left]) * (right - left)) // (A[right] - A[left])\n",
        "\n",
        "        if pos < 0 or pos >= len(A):\n",
        "            return -1, steps  # 예외 처리\n",
        "\n",
        "        print(f\"[Interpolation Step {steps}] pos: {pos}, value: {arr[pos]}\")\n",
        "\n",
        "        if A[pos] == target:\n",
        "            return pos, steps\n",
        "        elif A[pos] < target:\n",
        "            left = pos + 1\n",
        "        else:\n",
        "            right = pos - 1\n",
        "\n",
        "    return -1, steps  # 찾지 못한 경우\n",
        "\n",
        "# 탐색 예시\n",
        "arr = list(range(0, 10001, 10))  # 0, 10, 20, ..., 10000 (총 1001개 요소)\n",
        "target = 9000       # 비교 대상: 리스트 중간보다 다소 뒤쪽\n",
        "\n",
        "print(f'arr={arr}\\ntarget={target}\\n')\n",
        "print(f\"\\n#binary_interpolation_search(idx, steps): {binary_interpolation_search_steps(arr, target)}\" )\n"
      ],
      "metadata": {
        "id": "igIn3cgMPrV0"
      },
      "id": "igIn3cgMPrV0",
      "execution_count": null,
      "outputs": []
    },
    {
      "cell_type": "markdown",
      "id": "ca3733eb-856f-4ae7-a090-22a125268dfd",
      "metadata": {
        "id": "ca3733eb-856f-4ae7-a090-22a125268dfd"
      },
      "source": [
        "--------"
      ]
    },
    {
      "cell_type": "markdown",
      "id": "6c0a5159-dc17-4f04-b790-1030fb68204d",
      "metadata": {
        "id": "6c0a5159-dc17-4f04-b790-1030fb68204d"
      },
      "source": [
        "## 1-4. 해시 탐색"
      ]
    },
    {
      "cell_type": "markdown",
      "source": [
        "### 1) 해싱(Hashing)"
      ],
      "metadata": {
        "id": "jxmqAUppwq_5"
      },
      "id": "jxmqAUppwq_5"
    },
    {
      "cell_type": "markdown",
      "source": [
        "- 해시 함수(해시 테이블)를 사용하여 데이터를 저장하고 검색하는 방법\n",
        "- 해시 테이블은 키(key)와 값(value)으로 이루어진 데이터를 저장하는 자료구조\n",
        "- 해시 탐색은 키를 해시 함수를 사용하여 해시값으로 변환한 후, 이 해시값을 인덱스로 사용하여 데이터를 저장하고 검색\n",
        "    - key ──▶ [hash function] ──▶ index ──▶ 값 접근 (검색, 삽입, 삭제)\n",
        "- 평균 시간 복잡도: O(1)"
      ],
      "metadata": {
        "id": "w8MJqN04w2yD"
      },
      "id": "w8MJqN04w2yD"
    },
    {
      "cell_type": "markdown",
      "source": [
        "- 파이썬 딕셔너리는 해싱이 적용된 예이다."
      ],
      "metadata": {
        "id": "q0Dn9vJ7xLSc"
      },
      "id": "q0Dn9vJ7xLSc"
    },
    {
      "cell_type": "code",
      "source": [
        "students = {'학생1': 95, '학생2': 88}\n",
        "\n",
        "print(students['학생1'])  # 95"
      ],
      "metadata": {
        "id": "f0FuoEJ1xDHt"
      },
      "id": "f0FuoEJ1xDHt",
      "execution_count": null,
      "outputs": []
    },
    {
      "cell_type": "markdown",
      "source": [
        "### 2) 해시 함수(Hash Function)\n",
        "- 키(key)를 일정한 크기의 정수 인덱스로 변환해주는 함수"
      ],
      "metadata": {
        "id": "3wzQdGWg7l-6"
      },
      "id": "3wzQdGWg7l-6"
    },
    {
      "cell_type": "markdown",
      "source": [
        "1. 해시 함수 예1: **정수형 키를 위한 단순 해시 함수**"
      ],
      "metadata": {
        "id": "wiQtZ5Vz8Fij"
      },
      "id": "wiQtZ5Vz8Fij"
    },
    {
      "cell_type": "code",
      "source": [
        "def hash_int(key, table_size):\n",
        "    return key % table_size\n",
        "\n",
        "table_size = 10\n",
        "keys = [17, 23, \"apple\", \"banana\"]\n",
        "\n",
        "print(\"정수 해시:\")\n",
        "for k in keys:\n",
        "    if isinstance(k, int):\n",
        "        print(f\"{k} → {hash_int(k, table_size)}\")"
      ],
      "metadata": {
        "id": "rLMRLZ_i8lJJ"
      },
      "id": "rLMRLZ_i8lJJ",
      "execution_count": null,
      "outputs": []
    },
    {
      "cell_type": "markdown",
      "source": [
        "2. 해시 함수 예2: **문자열 키를 위한 아스키 기반 해시 함수**"
      ],
      "metadata": {
        "id": "s7vjoMZT8T-w"
      },
      "id": "s7vjoMZT8T-w"
    },
    {
      "cell_type": "code",
      "source": [
        "def hash_string(key, table_size):\n",
        "    total = 0\n",
        "    for char in key:\n",
        "        total += ord(char)  # 각 문자 → 유니코드 정수값\n",
        "    return total % table_size\n",
        "\n",
        "print(\"문자열 해시:\")\n",
        "for k in keys:\n",
        "    if isinstance(k, str):\n",
        "        print(f\"{k} → {hash_string(k, table_size)}\")"
      ],
      "metadata": {
        "id": "0-s5b6-C8r2z"
      },
      "id": "0-s5b6-C8r2z",
      "execution_count": null,
      "outputs": []
    },
    {
      "cell_type": "markdown",
      "source": [
        "3. 해시 함수 예3: **문자열 해시 – Horner’s Rule (문자 순서 고려)**"
      ],
      "metadata": {
        "id": "J0qJ7HdJ8URU"
      },
      "id": "J0qJ7HdJ8URU"
    },
    {
      "cell_type": "code",
      "source": [
        "def horner_hash(key, table_size, base=31):\n",
        "    hash_val = 0\n",
        "    for char in key:\n",
        "        hash_val = (hash_val * base + ord(char)) % table_size\n",
        "    return hash_val\n",
        "\n",
        "print(\"Horner 해시:\")\n",
        "for k in keys:\n",
        "    if isinstance(k, str):\n",
        "        print(f\"{k} → {horner_hash(k, table_size)}\")"
      ],
      "metadata": {
        "id": "uiq9BarP8yUm"
      },
      "id": "uiq9BarP8yUm",
      "execution_count": null,
      "outputs": []
    },
    {
      "cell_type": "markdown",
      "source": [
        "4. 해시 함수 예1: **파이썬 내장 해시 함수 사용**"
      ],
      "metadata": {
        "id": "Ij_IEZR88Um0"
      },
      "id": "Ij_IEZR88Um0"
    },
    {
      "cell_type": "code",
      "source": [
        "def builtin_hash(key, table_size):\n",
        "    return hash(key) % table_size\n",
        "\n",
        "print(\"내장 해시:\")\n",
        "for k in keys:\n",
        "    print(f\"{k} → {builtin_hash(k, table_size)}\")"
      ],
      "metadata": {
        "id": "Qm6cf7Bn9K8k"
      },
      "id": "Qm6cf7Bn9K8k",
      "execution_count": null,
      "outputs": []
    },
    {
      "cell_type": "markdown",
      "source": [
        "### 3) 해시 테이블\n"
      ],
      "metadata": {
        "id": "CdkB4kX5CaQN"
      },
      "id": "CdkB4kX5CaQN"
    },
    {
      "cell_type": "markdown",
      "source": [
        "- 해시 테이블 기본 기능 :\n",
        "    - 검색: get(key)  \n",
        "    - 삽입: put(key, value)\n",
        "    - 삭제: remove(key)"
      ],
      "metadata": {
        "id": "Oej-6VmgCrSp"
      },
      "id": "Oej-6VmgCrSp"
    },
    {
      "cell_type": "markdown",
      "source": [
        "- **[참고] 충돌 발생하는 단어 찾는 예제**"
      ],
      "metadata": {
        "id": "xrIuCK-DF050"
      },
      "id": "xrIuCK-DF050"
    },
    {
      "cell_type": "code",
      "source": [
        "# 예시 단어 리스트\n",
        "word_list = [\n",
        "    \"dog\", \"fat\", \"cat\", \"bat\", \"rat\", \"mat\", \"dad\", \"mom\",\n",
        "    \"god\", \"hat\", \"cab\", \"dab\", \"bad\", \"bag\", \"jam\", \"pan\",\n",
        "    \"hi!\", \"me\", \"dodo\", \"echo\", \"bed\"\n",
        "]\n",
        "\n",
        "def find_colliding_words(words, table_size):\n",
        "    hash_map = {}\n",
        "\n",
        "    for word in words:\n",
        "        hash_val = sum(ord(c) for c in word) % table_size\n",
        "        if hash_val not in hash_map:\n",
        "            hash_map[hash_val] = []\n",
        "        hash_map[hash_val].append(word)\n",
        "\n",
        "    # for h, wlist in hash_map.items():\n",
        "    #     print( h, wlist)\n",
        "\n",
        "    # 해시값이 같은 단어가 2개 이상인 경우만 출력\n",
        "    collisions = {h: wlist for h, wlist in hash_map.items() if len(wlist) > 1}\n",
        "\n",
        "    return collisions\n",
        "\n",
        "\n",
        "# 테이블 크기 작게 설정 → 충돌 유도\n",
        "collisions = find_colliding_words(word_list, table_size=5)\n",
        "\n",
        "# 출력\n",
        "for hash_val, group in collisions.items():\n",
        "    print(f\"해시값 {hash_val}: {group}\")"
      ],
      "metadata": {
        "id": "JakX9aELF8uy"
      },
      "id": "JakX9aELF8uy",
      "execution_count": null,
      "outputs": []
    },
    {
      "cell_type": "markdown",
      "source": [
        "- **기본 해시 테이블 (충돌 발생)**"
      ],
      "metadata": {
        "id": "UuIHnf4zDDB8"
      },
      "id": "UuIHnf4zDDB8"
    },
    {
      "cell_type": "code",
      "source": [
        "class BasicHashTable:\n",
        "    def __init__(self, size=5):\n",
        "        self.size = size\n",
        "        self.table = [None] * size\n",
        "\n",
        "    def _hash(self, key):\n",
        "        return sum(ord(c) for c in str(key)) % self.size\n",
        "\n",
        "    def put(self, key, value):\n",
        "        index = self._hash(key)\n",
        "        if self.table[index] is None:\n",
        "            self.table[index] = (key, value)\n",
        "        else:\n",
        "            print(f\"❌ 충돌 발생! {key}는 삽입할 수 없습니다 (index={index})\")\n",
        "\n",
        "    def display(self):\n",
        "        for i, item in enumerate(self.table):\n",
        "            print(f\"[{i}] {item}\")\n",
        "\n",
        "\n",
        "h1 = BasicHashTable()\n",
        "h1.put(\"apple\", 1)\n",
        "h1.put(\"melon\", 2)\n",
        "h1.put(\"bat\",   3)\n",
        "h1.put(\"echo\",  4)  # 충돌 유도\n",
        "h1.display()"
      ],
      "metadata": {
        "id": "PKlMqmU0C9D8"
      },
      "id": "PKlMqmU0C9D8",
      "execution_count": null,
      "outputs": []
    },
    {
      "cell_type": "markdown",
      "source": [
        "- 파이썬의 hash() 함수 사용"
      ],
      "metadata": {
        "id": "s68bOzAobAXL"
      },
      "id": "s68bOzAobAXL"
    },
    {
      "cell_type": "code",
      "source": [
        "# 파이썬의 hash() 함수 사용\n",
        "class BasicHashTable:\n",
        "    def __init__(self, size=5):\n",
        "        self.size = size\n",
        "        self.table = [None] * size\n",
        "\n",
        "    def put(self, key, value):\n",
        "        index = hash(key) % self.size\n",
        "        if self.table[index] is None:\n",
        "            self.table[index] = (key, value)\n",
        "        else:\n",
        "            print(f\"❌ 충돌 발생! {key}는 삽입할 수 없습니다 (index={index})\")\n",
        "\n",
        "    def display(self):\n",
        "        for i, item in enumerate(self.table):\n",
        "            print(f\"[{i}] {item}\")\n",
        "\n",
        "\n",
        "h1 = BasicHashTable()\n",
        "h1.put(\"apple\", 1)\n",
        "h1.put(\"melon\", 2)\n",
        "h1.put(\"bat\",   3)\n",
        "h1.put(\"echo\",  4)  # 충돌 유도\n",
        "h1.display()"
      ],
      "metadata": {
        "id": "JbnnzObLa0Xw"
      },
      "id": "JbnnzObLa0Xw",
      "execution_count": null,
      "outputs": []
    },
    {
      "cell_type": "markdown",
      "id": "db2e24c9-41c6-4995-b43a-0531ecef090c",
      "metadata": {
        "id": "db2e24c9-41c6-4995-b43a-0531ecef090c"
      },
      "source": [
        "### 4) 해시 충돌과 해결 방법\n",
        "- 체이닝(Chaining, 분리 연결법)\n",
        "    - 충돌한 키의 자료를 연결 리스트로 저장\n",
        "- 오픈 어드레싱(Open Addressing)\n",
        "    - 다음 빈 슬롯을 찾아 저장 (선형 탐색, 이차 탐색, 이중 해싱 등)"
      ]
    },
    {
      "cell_type": "markdown",
      "source": [
        "- **방법1: 체이닝(Chaining, 분리 연결법)**"
      ],
      "metadata": {
        "id": "UvX-zHerDhjO"
      },
      "id": "UvX-zHerDhjO"
    },
    {
      "cell_type": "code",
      "source": [
        "class ChainingHashTable:\n",
        "    def __init__(self, size=5):\n",
        "        self.size = size\n",
        "        self.table = [[] for _ in range(size)]\n",
        "\n",
        "    def _hash(self, key):\n",
        "        return sum(ord(c) for c in str(key)) % self.size\n",
        "\n",
        "    def put(self, key, value):\n",
        "        index = self._hash(key)\n",
        "        if self.table[index] != [] :\n",
        "            print(f\"🔁 충돌! {key} → 슬롯 {index} 점유됨, 같은 인덱스에 리스트로 저장\")\n",
        "        self.table[index].append((key, value))\n",
        "\n",
        "    def display(self):\n",
        "        for i, bucket in enumerate(self.table):\n",
        "            print(f\"[{i}] {bucket}\")\n",
        "\n",
        "\n",
        "h2 = ChainingHashTable()\n",
        "h2.put(\"apple\", 1)\n",
        "h2.put(\"melon\", 2)\n",
        "h2.put(\"bat\",   3)\n",
        "h2.put(\"echo\",  4)  # 충돌 해결 → 같은 인덱스에 리스트로 저장\n",
        "h2.display()"
      ],
      "metadata": {
        "id": "-wNquebIHphA"
      },
      "id": "-wNquebIHphA",
      "execution_count": null,
      "outputs": []
    },
    {
      "cell_type": "markdown",
      "source": [
        "- **방법2: 오픈 어드레싱(Open Addressing)**, Linear probing"
      ],
      "metadata": {
        "id": "TdQDvYTpH_0I"
      },
      "id": "TdQDvYTpH_0I"
    },
    {
      "cell_type": "code",
      "source": [
        "class OpenAddressingHashTable:\n",
        "    def __init__(self, size=5):\n",
        "        self.size = size\n",
        "        self.keys = [None] * size\n",
        "        self.values = [None] * size\n",
        "\n",
        "    def _hash(self, key):\n",
        "        return sum(ord(c) for c in str(key)) % self.size\n",
        "\n",
        "    def put(self, key, value):\n",
        "        index = self._hash(key)\n",
        "        start = index\n",
        "        while self.keys[index] is not None and self.keys[index] != key:\n",
        "            print(f\"🔁 충돌! {key} → 슬롯 {index} 점유됨, 다음으로 이동\")\n",
        "            index = (index + 1) % self.size\n",
        "            if index == start:\n",
        "                print(\"❌ 테이블이 가득 찼습니다.\")\n",
        "                return\n",
        "        self.keys[index] = key\n",
        "        self.values[index] = value\n",
        "\n",
        "    def display(self):\n",
        "        for i in range(self.size):\n",
        "            print(f\"[{i}] {self.keys[i]} : {self.values[i]}\")\n",
        "\n",
        "\n",
        "h3 = OpenAddressingHashTable()\n",
        "h3.put(\"apple\", 1)\n",
        "h3.put(\"melon\", 2)\n",
        "h3.put(\"bat\",   3)\n",
        "h3.put(\"echo\",  4)  # 충돌 해결 → 다음 슬롯으로 이동\n",
        "h3.display()\n"
      ],
      "metadata": {
        "id": "N6aVEb5hIAM-"
      },
      "id": "N6aVEb5hIAM-",
      "execution_count": null,
      "outputs": []
    },
    {
      "cell_type": "markdown",
      "source": [
        "\n",
        "\n",
        "---\n",
        "\n"
      ],
      "metadata": {
        "id": "JAE_poUbbcFy"
      },
      "id": "JAE_poUbbcFy"
    },
    {
      "cell_type": "markdown",
      "source": [
        "### [실습] : 해시 탐색 알고리즘 구현하기\n",
        "- 포함 기능 : put, get, remove, display\n",
        "1. 충돌 방지 방법(체이닝, Chaining) 적용한 코드\n",
        "    - 기능(연산) : put, get, remove, display 포함"
      ],
      "metadata": {
        "id": "mJaCnm9mJxqg"
      },
      "id": "mJaCnm9mJxqg"
    },
    {
      "cell_type": "code",
      "source": [
        "# 1. 충돌 방지 방법(체이닝, Chaining) 적용한 코드\n",
        "class ChainingHashTable:\n",
        "    def __init__(self, size=8):\n",
        "        self.size = size\n",
        "        self.table = [[] for _ in range(size)]  # 각 슬롯은 리스트로 초기화\n",
        "\n",
        "    def _hash(self, key):\n",
        "        \"\"\"간단한 해시 함수: 아스키 코드의 합을 테이블 크기로 나눈 나머지\"\"\"\n",
        "        return sum(ord(c) for c in key) % self.size\n",
        "\n",
        "    def put(self, key, value):\n",
        "        index = self._hash(key)\n",
        "\n",
        "        if self.table[index] != [] :\n",
        "            print(f\"🔁 충돌! {key} → 슬롯 {index} 점유됨, 같은 인덱스에 리스트로 저장\")\n",
        "\n",
        "        # 키가 이미 존재하면 값만 업데이트 (중복 배제: update)\n",
        "        for i, (k, v) in enumerate(self.table[index]):\n",
        "            if k == key:\n",
        "                self.table[index][i] = (key, value)\n",
        "                return\n",
        "        # 존재하지 않으면 새로 삽입\n",
        "        self.table[index].append((key, value))\n",
        "\n",
        "    def get(self, key):\n",
        "        index = self._hash(key)\n",
        "        for k, v in self.table[index]:\n",
        "            if k == key:\n",
        "                return v\n",
        "        return None  # 키가 없으면 None 반환\n",
        "\n",
        "    def remove(self, key):\n",
        "        index = self._hash(key)\n",
        "        for i, (k, v) in enumerate(self.table[index]):\n",
        "            if k == key:\n",
        "                del self.table[index][i]\n",
        "                print(f\"❌ '{key}' 삭제됨 (슬롯 {index})\")\n",
        "                return\n",
        "        print(f\"⚠️ '{key}' 키가 존재하지 않습니다.\")\n",
        "\n",
        "    def display(self):\n",
        "        print(\"\\n📦 해시 테이블 상태:\")\n",
        "        for i, bucket in enumerate(self.table):\n",
        "            print(f\"[{i}]: {bucket}\")\n"
      ],
      "metadata": {
        "id": "b9s9JCmPIWPH"
      },
      "id": "b9s9JCmPIWPH",
      "execution_count": null,
      "outputs": []
    },
    {
      "cell_type": "code",
      "source": [
        "# 객체 생성\n",
        "h = ChainingHashTable(5)\n",
        "h.put(\"apple\", 1)   # 삽입\n",
        "h.put(\"melon\", 2)\n",
        "h.put(\"bat\",   3)\n",
        "h.put(\"echo\",  4)   # 충돌 유도\n",
        "\n",
        "# 출력\n",
        "h.display()\n",
        "\n",
        "# 검색\n",
        "print(f\"\\n🔎 target → 'apple' 값:\", h.get('apple'))\n",
        "\n",
        "# 삭제\n",
        "print()\n",
        "h.remove(\"echo\")\n",
        "\n",
        "# 출력\n",
        "h.display()"
      ],
      "metadata": {
        "id": "T1_kLNPVMjC3"
      },
      "id": "T1_kLNPVMjC3",
      "execution_count": null,
      "outputs": []
    },
    {
      "cell_type": "markdown",
      "source": [
        "2. 충돌 방지 방법(개방 주소법, Open Addressing) 적용한 코드"
      ],
      "metadata": {
        "id": "7WhUqf72MrJB"
      },
      "id": "7WhUqf72MrJB"
    },
    {
      "cell_type": "code",
      "source": [
        "# 2. 충돌 방지 방법(개방 주소법, Open Addressing) 적용한 코드\n",
        "class OpenAddressingHashTable:\n",
        "    def __init__(self, size=8):\n",
        "        self.size = size\n",
        "        self.keys = [None] * size\n",
        "        self.values = [None] * size\n",
        "        self.deleted = \"<deleted>\"  # 삭제 표시용 마커\n",
        "\n",
        "    def _hash(self, key):\n",
        "        return sum(ord(c) for c in str(key)) % self.size\n",
        "\n",
        "    def put(self, key, value):\n",
        "        index = self._hash(key)\n",
        "        start = index\n",
        "\n",
        "        while self.keys[index] is not None and self.keys[index] != key and self.keys[index] != self.deleted:\n",
        "            print(f\"🔁 충돌! {key} → 슬롯 {index} 점유됨, 다음으로 이동\")\n",
        "            index = (index + 1) % self.size\n",
        "            if index == start:\n",
        "                print(\"❌ 테이블이 가득 찼습니다.\")\n",
        "                return\n",
        "\n",
        "        self.keys[index] = key\n",
        "        self.values[index] = value\n",
        "\n",
        "    def get(self, key):\n",
        "        index = self._hash(key)\n",
        "        start = index\n",
        "\n",
        "        while self.keys[index] is not None:\n",
        "            if self.keys[index] == key:\n",
        "                return self.values[index]\n",
        "            index = (index + 1) % self.size\n",
        "            if index == start:\n",
        "                break\n",
        "        return None\n",
        "\n",
        "    def remove(self, key):\n",
        "        index = self._hash(key)\n",
        "        start = index\n",
        "\n",
        "        while self.keys[index] is not None:\n",
        "            if self.keys[index] == key:\n",
        "                self.keys[index] = self.deleted\n",
        "                self.values[index] = None\n",
        "                print(f\"❌ '{key}' 삭제됨 (슬롯 {index})\")\n",
        "                return\n",
        "            index = (index + 1) % self.size\n",
        "            if index == start:\n",
        "                break\n",
        "        print(f\"⚠️ '{key}' 키가 존재하지 않습니다.\")\n",
        "\n",
        "    def display(self):\n",
        "        print(\"\\n📦 해시 테이블 상태:\")\n",
        "        for i in range(self.size):\n",
        "            print(f\"[{i}]: {self.keys[i]} → {self.values[i]}\")\n"
      ],
      "metadata": {
        "id": "DHEDg0GOKW6C"
      },
      "id": "DHEDg0GOKW6C",
      "execution_count": null,
      "outputs": []
    },
    {
      "cell_type": "code",
      "source": [
        "# 객체 생성\n",
        "h = OpenAddressingHashTable(5)\n",
        "\n",
        "h.put(\"apple\", 1)   # 삽입\n",
        "h.put(\"melon\", 2)\n",
        "h.put(\"bat\",   3)\n",
        "h.put(\"echo\",  4)   # 충돌 유도\n",
        "\n",
        "# 출력\n",
        "h.display()\n",
        "\n",
        "# 검색\n",
        "print(f\"\\n🔎 target → 'apple' 값:\", h.get('apple'))\n",
        "\n",
        "# 삭제\n",
        "print()\n",
        "h.remove(\"echo\")\n",
        "\n",
        "# 출력\n",
        "h.display()"
      ],
      "metadata": {
        "id": "bvISFgORNsB1"
      },
      "id": "bvISFgORNsB1",
      "execution_count": null,
      "outputs": []
    },
    {
      "cell_type": "markdown",
      "source": [
        "\n",
        "\n",
        "---\n",
        "\n"
      ],
      "metadata": {
        "id": "VMdbSHHSIXLb"
      },
      "id": "VMdbSHHSIXLb"
    },
    {
      "cell_type": "markdown",
      "source": [
        "### @해시 테스트 함수 최적화"
      ],
      "metadata": {
        "id": "xF4oMebldQsE"
      },
      "id": "xF4oMebldQsE"
    },
    {
      "cell_type": "code",
      "source": [
        "import time\n",
        "\n",
        "def test_hash_table(table_class, data, target, label):\n",
        "    print(f\"\\n📁 테스트 데이터: {label}\")\n",
        "    h = table_class(size=2 * len(data))  # 여유 있는 크기로 설정\n",
        "\n",
        "    # 삽입 테스트\n",
        "    start = time.time()\n",
        "    for i, key in enumerate(data):\n",
        "        h.put(key, i)\n",
        "    insert_time = time.time() - start\n",
        "\n",
        "    # 검색 테스트\n",
        "    start = time.time()\n",
        "    result = h.get(target)\n",
        "    passed = True if result is not None else False\n",
        "    search_time = time.time() - start\n",
        "\n",
        "    print(f\"✅ 삽입 완료 ({len(data)}개): {insert_time:.6f}초\")\n",
        "    print(f\"🔍 검색 완료 ({target} {'✅ PASS' if passed else '❌ FAIL'} : {search_time:.6f}초\")\n",
        "\n",
        "    # 삭제 테스트\n",
        "    start = time.time()\n",
        "    h.remove(target)\n",
        "    remove_time = time.time() - start\n",
        "    print(f\"❌ 삭제 완료 ({target}): {remove_time:.6f}초\")\n"
      ],
      "metadata": {
        "id": "ktKgiJGhdb9-"
      },
      "id": "ktKgiJGhdb9-",
      "execution_count": null,
      "outputs": []
    },
    {
      "cell_type": "code",
      "source": [
        "# -------------------------------\n",
        "# 테스트 케이스 리스트\n",
        "# -------------------------------\n",
        "test_cases = [\n",
        "    (arr, target, \"숫자 데이터\"),\n",
        "    (arr_np, target_np, \"Numpy 음수 데이터\"),\n",
        "    (english_words, target_english, \"영어 단어 데이터\"),\n",
        "    (korean_words, target_korean, \"한글 단어 데이터\"),\n",
        "]\n",
        "\n",
        "# -------------------------------\n",
        "# 해시 테이블 테스트\n",
        "# -------------------------------\n",
        "for data, target, label in test_cases:\n",
        "    # test_hash_table(ChainingHashTable, data, target, label)\n",
        "    test_hash_table(OpenAddressingHashTable, data, target, label)\n"
      ],
      "metadata": {
        "id": "Xiq5sNMYd13W"
      },
      "id": "Xiq5sNMYd13W",
      "execution_count": null,
      "outputs": []
    },
    {
      "cell_type": "markdown",
      "source": [
        "\n",
        "\n",
        "---\n",
        "\n"
      ],
      "metadata": {
        "id": "6MhzMF14dPnK"
      },
      "id": "6MhzMF14dPnK"
    }
  ],
  "metadata": {
    "kernelspec": {
      "display_name": "Python 3 (ipykernel)",
      "language": "python",
      "name": "python3"
    },
    "language_info": {
      "codemirror_mode": {
        "name": "ipython",
        "version": 3
      },
      "file_extension": ".py",
      "mimetype": "text/x-python",
      "name": "python",
      "nbconvert_exporter": "python",
      "pygments_lexer": "ipython3",
      "version": "3.12.1"
    },
    "colab": {
      "provenance": [],
      "toc_visible": true,
      "include_colab_link": true
    }
  },
  "nbformat": 4,
  "nbformat_minor": 5
}