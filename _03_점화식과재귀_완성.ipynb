{
  "nbformat": 4,
  "nbformat_minor": 0,
  "metadata": {
    "colab": {
      "provenance": [],
      "toc_visible": true,
      "authorship_tag": "ABX9TyNQJgG1XKvLfUHKEXi99k0q",
      "include_colab_link": true
    },
    "kernelspec": {
      "name": "python3",
      "display_name": "Python 3"
    },
    "language_info": {
      "name": "python"
    }
  },
  "cells": [
    {
      "cell_type": "markdown",
      "metadata": {
        "id": "view-in-github",
        "colab_type": "text"
      },
      "source": [
        "<a href=\"https://colab.research.google.com/github/Joyschool/gachon-algorithm-2025/blob/main/_03_%EC%A0%90%ED%99%94%EC%8B%9D%EA%B3%BC%EC%9E%AC%EA%B7%80_%EC%99%84%EC%84%B1.ipynb\" target=\"_parent\"><img src=\"https://colab.research.google.com/assets/colab-badge.svg\" alt=\"Open In Colab\"/></a>"
      ]
    },
    {
      "cell_type": "markdown",
      "source": [
        "점화식과 재귀 알고리즘"
      ],
      "metadata": {
        "id": "n_gLhcoQe3pD"
      }
    },
    {
      "cell_type": "markdown",
      "source": [
        "\n",
        "\n",
        "---\n",
        "\n"
      ],
      "metadata": {
        "id": "5eqH6EEoRjnt"
      }
    },
    {
      "cell_type": "markdown",
      "source": [
        "# 1.알고리즘 분석을 위한 기초"
      ],
      "metadata": {
        "id": "zbK7LsGRRkmv"
      }
    },
    {
      "cell_type": "markdown",
      "source": [
        "\n",
        "\n",
        "---\n",
        "\n"
      ],
      "metadata": {
        "id": "e_21YenYRqRr"
      }
    },
    {
      "cell_type": "markdown",
      "source": [
        "## 알고리즘 효율성 분석"
      ],
      "metadata": {
        "id": "NAbiWsMhRwnZ"
      }
    },
    {
      "cell_type": "markdown",
      "source": [
        "### @알고리즘 효율성 측정 (시간 성능 분석)"
      ],
      "metadata": {
        "id": "Nf_IthM7GSBf"
      }
    },
    {
      "cell_type": "code",
      "source": [
        "# time 모듈을 이용한 실행시간 측정\n",
        "def test(n):\n",
        "    l = []\n",
        "    for i in range(n):\n",
        "        l.append(i)\n",
        "\n",
        "import time\n",
        "start = time.time()\n",
        "test(1000)\n",
        "end = time.time()\n",
        "print(f\"실행시간 = {end-start}\")"
      ],
      "metadata": {
        "colab": {
          "base_uri": "https://localhost:8080/"
        },
        "id": "c1jCuwFXGcTB",
        "outputId": "45c12bb1-9c57-454b-9c38-901ab40f9f13"
      },
      "execution_count": null,
      "outputs": [
        {
          "output_type": "stream",
          "name": "stdout",
          "text": [
            "실행시간 = 0.00010347366333007812\n"
          ]
        }
      ]
    },
    {
      "cell_type": "markdown",
      "source": [
        "### [실습] 성능 비교하기\n",
        "데이터를 리스트에 추가하는 다양한 방법의 성능을 측정하고 그래프로 비교해 보세요."
      ],
      "metadata": {
        "id": "ntVHc2rpFVQF"
      }
    },
    {
      "cell_type": "code",
      "source": [
        "# 1.append() 메서드\n",
        "def test1(n):\n",
        "    l = []\n",
        "    for i in range(n):\n",
        "        l.append(i)\n",
        "\n",
        "# 2.extend() 메서드\n",
        "def test2(n):\n",
        "    l = []\n",
        "    for i in range(n):\n",
        "        l.extend([i])\n",
        "\n",
        "# 3.리스트 연결 연산자\n",
        "def test3(n):\n",
        "    l = []\n",
        "    for i in range(n):\n",
        "        l = l + [i]\n",
        "\n",
        "# 4.리스트 조건제시법\n",
        "def test4(n):\n",
        "    l = [i for i in range(n)]\n",
        "\n",
        "# 5.range 객체 활용\n",
        "def test5(n):\n",
        "    l = list(range(n))"
      ],
      "metadata": {
        "id": "KkErHiTpG9M5"
      },
      "execution_count": null,
      "outputs": []
    },
    {
      "cell_type": "code",
      "source": [
        "# 코드 작성\n",
        "import time\n",
        "import random\n",
        "import matplotlib.pyplot as plt\n",
        "\n",
        "# 실행 시간 측정 함수\n",
        "def measure_time(sort_funcs, n):\n",
        "    times = []\n",
        "    for sort_func in sort_funcs:\n",
        "        start = time.time()\n",
        "        sort_func(n)\n",
        "        end = time.time()\n",
        "        times.append(end - start)\n",
        "    return times\n",
        "\n",
        "def benchmark():\n",
        "    sizes = [100, 500, 1000, 5000, 10000]\n",
        "    # sizes = [100, 500, 1000]\n",
        "    sort_funcs = [test1, test2, test3, test4, test5]\n",
        "    func_times = [[] for _ in sort_funcs]\n",
        "\n",
        "    # 실행 시간 측정\n",
        "    for size in sizes:\n",
        "        results = measure_time(sort_funcs, size)\n",
        "        for idx, val in enumerate(results):\n",
        "            func_times[idx].append(val)\n",
        "\n",
        "    # 그래프 그리기\n",
        "    plt.figure(figsize=(5, 4))\n",
        "    for idx, sort_func in enumerate(sort_funcs):\n",
        "        plt.plot(sizes, func_times[idx], label=f\"{sort_func.__name__}\", marker='o')\n",
        "\n",
        "    plt.xlabel(\"Input Size\")\n",
        "    plt.ylabel(\"Execution Time (seconds)\")\n",
        "    plt.title(\"Algorithm Time Complexity Analysis\")\n",
        "    plt.legend()\n",
        "    plt.grid(True)\n",
        "    plt.show()\n",
        "\n",
        "# 함수 호출\n",
        "benchmark()"
      ],
      "metadata": {
        "colab": {
          "base_uri": "https://localhost:8080/",
          "height": 410
        },
        "id": "Zq9UxntIGMWf",
        "outputId": "ae7eec22-2fb9-41f8-b310-9ec72654fdd5"
      },
      "execution_count": null,
      "outputs": [
        {
          "output_type": "display_data",
          "data": {
            "text/plain": [
              "<Figure size 500x400 with 1 Axes>"
            ],
            "image/png": "[encoded data removed]"
          },
          "metadata": {}
        }
      ]
    },
    {
      "cell_type": "markdown",
      "source": [
        "\n",
        "\n",
        "---\n",
        "\n"
      ],
      "metadata": {
        "id": "oJUdlh5FDJkT"
      }
    },
    {
      "cell_type": "markdown",
      "source": [
        "## 복잡도 분석\n",
        "\n",
        "- **복잡도 분석에서 중요한 점**\n",
        "    - 알고리즘에서 **입력의 크기**는 무엇인가?\n",
        "    - 복잡도에 영향을 미치는 가장 핵심적인 **기본 연산**은 무엇인가?\n",
        "    - 입력의 크기가 증가함에 따라 처리 **시간은 어떤 형태로 증가**하는가?\n",
        "    - **입력의 특성에 따라 알고리즘 효율성**에는 어떤 차이가 있는가?"
      ],
      "metadata": {
        "id": "THzIHsgrDKbH"
      }
    },
    {
      "cell_type": "markdown",
      "source": [
        "### @기본 연산(Basic Operation)\n",
        "- 알고리즘에서 가장 중요한(많이 수행되는) 연산\n",
        "    - 다중 루프의 경우 가장 안쪽 루프에 있는 연산\n",
        "    - 이 연산이 실행되는 횟수 만을 계산"
      ],
      "metadata": {
        "id": "XzwkiIR5DNkT"
      }
    },
    {
      "cell_type": "markdown",
      "source": [
        "### @복잡도 함수\n",
        "- **어떤 형태로 증가하는가를 나타내는 함수**\n",
        "- 입력의 크기에 대한 기본 연산의 수행 횟수를 나타냄 → $T_{A}(n)=2, T_{B}(n)=2n, T_{C}(n)=2n^2$  → 근사적으로 계산\n",
        "\n",
        "- 입력의 종류 또는 구성에 따라 다른 특성의 실행시간\n",
        "    - 최선의 경우(best case) → 실행시간이 가장 짧음, 큰 의미 없음\n",
        "    - 평균적인 경우(average case) → 평균적 실행시간, 정확히 계산하기 어렵다\n",
        "    - **최악의 경우(worst case)** → 입력의 구성에 따른 실행시간, 가장 중요"
      ],
      "metadata": {
        "id": "Hl8oyZXkDSBm"
      }
    },
    {
      "cell_type": "markdown",
      "source": [
        "\n",
        "\n",
        "---\n",
        "\n"
      ],
      "metadata": {
        "id": "WpMv6phaUkeW"
      }
    },
    {
      "cell_type": "markdown",
      "source": [
        "## 점근적 표기법"
      ],
      "metadata": {
        "id": "_6piiG_IUj9q"
      }
    },
    {
      "cell_type": "markdown",
      "source": [
        "- 점근적 표기법(Asymptotic Notation)\n",
        "    - 여러 항을 갖는 복잡도 함수를 최고차항만을 계수 없이 취해 단순하게 표현하는 방법\n",
        "    - 증가속도를 표현"
      ],
      "metadata": {
        "id": "db5gPsH3UtMl"
      }
    },
    {
      "cell_type": "markdown",
      "source": [
        "### [실습] 빅오 표기법 다양한 복잡도 함수 예"
      ],
      "metadata": {
        "id": "MRlfiOonShMS"
      }
    },
    {
      "cell_type": "code",
      "source": [
        "import math\n",
        "import itertools\n",
        "\n",
        "# O(1) - 상수 시간\n",
        "def constant_time_example(arr):\n",
        "    return arr[0]  # 배열의 첫 번째 원소 접근 (항상 일정한 시간)\n",
        "\n",
        "# O(log n) - 로그 시간 (이진 탐색)\n",
        "def log_time_example(arr, target):\n",
        "    left, right = 0, len(arr) - 1\n",
        "    while left <= right:\n",
        "        mid = (left + right) // 2\n",
        "        if arr[mid] == target:\n",
        "            return mid\n",
        "        elif arr[mid] < target:\n",
        "            left = mid + 1\n",
        "        else:\n",
        "            right = mid - 1\n",
        "    return -1  # 요소를 찾을 수 없는 경우\n",
        "\n",
        "# O(n) - 선형 시간 (리스트에서 특정 값 찾기)\n",
        "def linear_time_example(arr, target):\n",
        "    for i in range(len(arr)):\n",
        "        if arr[i] == target:\n",
        "            return i\n",
        "    return -1\n",
        "\n",
        "# O(n log n) - 퀵정렬 또는 병합정렬\n",
        "def nlogn_time_example(arr):\n",
        "    return sorted(arr)  # Timsort (Python 내장 정렬 알고리즘)\n",
        "\n",
        "# O(n^2) - 버블 정렬\n",
        "def quadratic_time_example(arr):\n",
        "    n = len(arr)\n",
        "    for i in range(n):\n",
        "        for j in range(0, n - i - 1):\n",
        "            if arr[j] > arr[j + 1]:\n",
        "                arr[j], arr[j + 1] = arr[j + 1], arr[j]\n",
        "    return arr\n",
        "\n",
        "# O(n^3) - 3중 루프 (브루트포스 트리플렛 합 찾기)\n",
        "def cubic_time_example(arr):\n",
        "    n = len(arr)\n",
        "    count = 0\n",
        "    for i in range(n):\n",
        "        for j in range(n):\n",
        "            for k in range(n):\n",
        "                if arr[i] + arr[j] + arr[k] == 0:\n",
        "                    count += 1\n",
        "    return count\n",
        "\n",
        "# O(2^n) - 피보나치 수열 (재귀)\n",
        "def exponential_time_example(n):\n",
        "    if n <= 1:\n",
        "        return n\n",
        "    return exponential_time_example(n - 1) + exponential_time_example(n - 2)\n",
        "\n",
        "# O(3^n) - 3^n 성능을 가지는 재귀 함수 예제\n",
        "def triple_exponential_example(n):\n",
        "    if n == 0:\n",
        "        return 1\n",
        "    return triple_exponential_example(n - 1) + triple_exponential_example(n - 1) + triple_exponential_example(n - 1)\n",
        "\n",
        "# O(n!) - 순열 생성 (브루트포스 탐색)\n",
        "def factorial_time_example(n):\n",
        "    return list(itertools.permutations(range(n)))  # 모든 순열을 생성\n",
        "\n",
        "# 테스트 실행\n",
        "if __name__ == \"__main__\":\n",
        "    arr = [1, 2, 3, 4, 5]\n",
        "    print(\"O(1):\", constant_time_example(arr))\n",
        "    print(\"O(log n):\", log_time_example(arr, 3))\n",
        "    print(\"O(n):\", linear_time_example(arr, 4))\n",
        "    print(\"O(n log n):\", nlogn_time_example(arr))\n",
        "    print(\"O(n^2):\", quadratic_time_example(arr))\n",
        "    print(\"O(n^3):\", cubic_time_example(arr))\n",
        "    print(\"O(2^n):\", exponential_time_example(5))\n",
        "    print(\"O(3^n):\", triple_exponential_example(5))\n",
        "    print(\"O(n!):\", len(factorial_time_example(5)))  # 생성된 순열 개수 출력\n",
        "\n"
      ],
      "metadata": {
        "colab": {
          "base_uri": "https://localhost:8080/"
        },
        "id": "pjWRyzA3SkXA",
        "outputId": "fb9c7ed4-5909-4764-a4dd-98142b308729"
      },
      "execution_count": null,
      "outputs": [
        {
          "output_type": "stream",
          "name": "stdout",
          "text": [
            "O(1): 1\n",
            "O(log n): 2\n",
            "O(n): 3\n",
            "O(n log n): [1, 2, 3, 4, 5]\n",
            "O(n^2): [1, 2, 3, 4, 5]\n",
            "O(n^3): 0\n",
            "O(2^n): 5\n",
            "O(3^n): 243\n",
            "O(n!): 120\n"
          ]
        }
      ]
    },
    {
      "cell_type": "markdown",
      "source": [
        "\n",
        "\n",
        "---\n",
        "\n"
      ],
      "metadata": {
        "id": "Y9K0F9oOCo-5"
      }
    },
    {
      "cell_type": "markdown",
      "source": [
        "# 2.재귀 알고리즘"
      ],
      "metadata": {
        "id": "yVCPrCuhRrPr"
      }
    },
    {
      "cell_type": "markdown",
      "source": [
        "## 점화식"
      ],
      "metadata": {
        "id": "iiOVPrQsCp7y"
      }
    },
    {
      "cell_type": "markdown",
      "source": [
        "### @점화식 분석 방법"
      ],
      "metadata": {
        "id": "YtDyyh_-CsmU"
      }
    },
    {
      "cell_type": "code",
      "source": [],
      "metadata": {
        "id": "vas5mkVX1kK6"
      },
      "execution_count": null,
      "outputs": []
    },
    {
      "cell_type": "markdown",
      "source": [
        "### @점화식에서 사용되는 연산(연산 유형별 점화식 예)\n"
      ],
      "metadata": {
        "id": "33B16e18CsEQ"
      }
    },
    {
      "cell_type": "markdown",
      "source": [
        "상수 연산\n",
        "- 점화식 : $T(n)=O(1)$\n",
        "- 빅오표기 : $O(1)$ 상수시간"
      ],
      "metadata": {
        "id": "JtxExSO9C2SM"
      }
    },
    {
      "cell_type": "code",
      "source": [
        "def constant_operation(n):\n",
        "    result = n * 2 + 5  # 고정된 연산 수행\n",
        "    return result\n",
        "\n",
        "print(constant_operation(100))\n"
      ],
      "metadata": {
        "id": "W41PYpEODC7O"
      },
      "execution_count": null,
      "outputs": []
    },
    {
      "cell_type": "markdown",
      "source": [
        "선형 반복문(Iterative Operations)\n",
        "- 점화식 : $T(n)=T(n−1)+O(1)$\n",
        "- 빅오표기 : $O(n)$ 선형 시간"
      ],
      "metadata": {
        "id": "Rm5Gy0yUC2ha"
      }
    },
    {
      "cell_type": "code",
      "source": [
        "def linear_operation(n):\n",
        "    total = 0\n",
        "    for i in range(n):  # n번 반복\n",
        "        total += i\n",
        "    return total\n",
        "\n",
        "print(linear_operation(100))\n"
      ],
      "metadata": {
        "id": "fNjWXhHpDDQc"
      },
      "execution_count": null,
      "outputs": []
    },
    {
      "cell_type": "markdown",
      "source": [
        "이중 루프(Nested Loops)\n",
        "- 점화식 : $T(n)=T(n−1)+O(n)$\n",
        "- 빅오표기 : $O(n^2)$ 이차 시간"
      ],
      "metadata": {
        "id": "Q4zVlfMCC2o7"
      }
    },
    {
      "cell_type": "code",
      "source": [
        "def quadratic_operation(n):\n",
        "    count = 0\n",
        "    for i in range(n):\n",
        "        for j in range(n):  # n * n번 반복\n",
        "            count += i + j\n",
        "    return count\n",
        "\n",
        "print(quadratic_operation(100))\n"
      ],
      "metadata": {
        "id": "EWX12EmfDDoQ"
      },
      "execution_count": null,
      "outputs": []
    },
    {
      "cell_type": "markdown",
      "source": [
        "로그 연산(Logarithmic Operations)\n",
        "- 점화식 : $T(n)=T(n/2)+O(1)$\n",
        "- 빅오표기 : $O(logn)$"
      ],
      "metadata": {
        "id": "Y9MHMCDWC2wU"
      }
    },
    {
      "cell_type": "code",
      "source": [
        "def binary_search(arr, target, left, right):\n",
        "    if left > right:\n",
        "        return -1\n",
        "    mid = (left + right) // 2\n",
        "    if arr[mid] == target:\n",
        "        return mid\n",
        "    elif arr[mid] < target:\n",
        "        return binary_search(arr, target, mid + 1, right)\n",
        "    else:\n",
        "        return binary_search(arr, target, left, mid - 1)\n",
        "\n",
        "arr = [1, 3, 5, 7, 9, 11, 13, 15]\n",
        "print(binary_search(arr, 7, 0, len(arr) - 1))\n"
      ],
      "metadata": {
        "id": "GJTX33KMDEDy"
      },
      "execution_count": null,
      "outputs": []
    },
    {
      "cell_type": "markdown",
      "source": [
        "분할 정복(Divide and Conquer)\n",
        "- 점화식 : $T(n)=2T(n/2)+O(n)$\n",
        "- 빅오표기 : $O(nlogn)$"
      ],
      "metadata": {
        "id": "jm9xwIorC21s"
      }
    },
    {
      "cell_type": "code",
      "source": [
        "def merge_sort(arr):\n",
        "    if len(arr) <= 1:\n",
        "        return arr\n",
        "\n",
        "    mid = len(arr) // 2\n",
        "    left = merge_sort(arr[:mid])\n",
        "    right = merge_sort(arr[mid:])\n",
        "\n",
        "    return merge(left, right)\n",
        "\n",
        "def merge(left, right):\n",
        "    sorted_arr = []\n",
        "    i = j = 0\n",
        "    while i < len(left) and j < len(right):\n",
        "        if left[i] < right[j]:\n",
        "            sorted_arr.append(left[i])\n",
        "            i += 1\n",
        "        else:\n",
        "            sorted_arr.append(right[j])\n",
        "            j += 1\n",
        "    sorted_arr.extend(left[i:])\n",
        "    sorted_arr.extend(right[j:])\n",
        "    return sorted_arr\n",
        "\n",
        "arr = [5, 3, 8, 1, 2, 7, 6, 4]\n",
        "print(merge_sort(arr))\n"
      ],
      "metadata": {
        "id": "DRk2Z6aGDEi9"
      },
      "execution_count": null,
      "outputs": []
    },
    {
      "cell_type": "markdown",
      "source": [
        "지수 연산(Exponential Operations)\n",
        "- 점화식 : $T(n)=T(n−1)+T(n−2)+O(1)$\n",
        "- 빅오표기 : $O(2^n)$"
      ],
      "metadata": {
        "id": "lRbH4DtrC27y"
      }
    },
    {
      "cell_type": "code",
      "source": [
        "def fibonacci(n):\n",
        "    if n <= 1:\n",
        "        return n\n",
        "    return fibonacci(n - 1) + fibonacci(n - 2)\n",
        "\n",
        "print(fibonacci(13))\n"
      ],
      "metadata": {
        "colab": {
          "base_uri": "https://localhost:8080/"
        },
        "id": "AEebVRZuDE_M",
        "outputId": "62ce3a4d-2211-4cea-a3e5-abab4300470d"
      },
      "execution_count": null,
      "outputs": [
        {
          "output_type": "stream",
          "name": "stdout",
          "text": [
            "233\n"
          ]
        }
      ]
    },
    {
      "cell_type": "markdown",
      "source": [
        "### [실습] 피보나치의 토끼 번식 문제\n",
        "- 1년이 지난 후(13월) 전체 토끼의 쌍의 수는?     \n",
        "- 점화식은? $T(n) = T(n-1) + T(n-2) + O(1)$ / $R(n) = R(n-1) + R(n-2)$\n",
        "- 빅오 표기법은? $O(2^n)$\n",
        "- 파이썬으로 구현 하시오."
      ],
      "metadata": {
        "id": "hEZrPFR7QUei"
      }
    },
    {
      "cell_type": "code",
      "source": [
        "def fibonacci_loop(months, offsprings):\n",
        "\n",
        "    parent, child = 1, 0\n",
        "    print(f'month:{1}, parent:{parent}, child:{child}')\n",
        "\n",
        "    for i in range(2, months+1):\n",
        "        child, parent = parent, parent + (child * offsprings)\n",
        "        print(f'month:{i}, parent:{parent}, child:{child}')\n",
        "\n",
        "    return child+parent\n",
        "\n",
        "fibonacci_loop(13, 1)  # months, offsprings = 월, 자손"
      ],
      "metadata": {
        "colab": {
          "base_uri": "https://localhost:8080/"
        },
        "id": "4xTKyzjChnBH",
        "outputId": "595e1175-386a-48c4-9b89-4ce7bca2a7e5"
      },
      "execution_count": null,
      "outputs": [
        {
          "output_type": "stream",
          "name": "stdout",
          "text": [
            "month:1, parent:1, child:0\n",
            "month:2, parent:1, child:1\n",
            "month:3, parent:2, child:1\n",
            "month:4, parent:3, child:2\n",
            "month:5, parent:5, child:3\n",
            "month:6, parent:8, child:5\n",
            "month:7, parent:13, child:8\n",
            "month:8, parent:21, child:13\n",
            "month:9, parent:34, child:21\n",
            "month:10, parent:55, child:34\n",
            "month:11, parent:89, child:55\n",
            "month:12, parent:144, child:89\n",
            "month:13, parent:233, child:144\n"
          ]
        },
        {
          "output_type": "execute_result",
          "data": {
            "text/plain": [
              "377"
            ]
          },
          "metadata": {},
          "execution_count": 17
        }
      ]
    },
    {
      "cell_type": "code",
      "source": [
        "# 반복문 이용\n",
        "def fibonacci(n):\n",
        "    if n <= 0:\n",
        "        return 1\n",
        "    elif n == 1:\n",
        "        return 1\n",
        "    else:\n",
        "        a, b = 1, 0   # 부모, 자식\n",
        "        for i in range(2, n+1):\n",
        "            a, b = a + b, a\n",
        "        return a + b\n",
        "\n",
        "fibonacci(13)"
      ],
      "metadata": {
        "colab": {
          "base_uri": "https://localhost:8080/"
        },
        "id": "nWqsQTDgQUm9",
        "outputId": "8c9a2308-7a13-4c5c-840e-c2c9a8f4f39f"
      },
      "execution_count": null,
      "outputs": [
        {
          "output_type": "execute_result",
          "data": {
            "text/plain": [
              "377"
            ]
          },
          "metadata": {},
          "execution_count": 27
        }
      ]
    },
    {
      "cell_type": "code",
      "source": [
        "# 재귀 호출 이용\n",
        "def fibonacci_recursive(n):\n",
        "    if n <= 0:\n",
        "        return 1  # 시작 조건\n",
        "    elif n == 1:\n",
        "        return 1\n",
        "    return fibonacci_recursive(n-1) + fibonacci_recursive(n-2)\n",
        "fibonacci_recursive(13)"
      ],
      "metadata": {
        "colab": {
          "base_uri": "https://localhost:8080/"
        },
        "id": "VtqoY668RTVk",
        "outputId": "49c63cea-78ba-4dbb-e497-f5115ab14161"
      },
      "execution_count": null,
      "outputs": [
        {
          "output_type": "execute_result",
          "data": {
            "text/plain": [
              "377"
            ]
          },
          "metadata": {},
          "execution_count": 26
        }
      ]
    },
    {
      "cell_type": "markdown",
      "source": [
        "\n",
        "\n",
        "---\n",
        "\n"
      ],
      "metadata": {
        "id": "jV4i0i4MRvl_"
      }
    },
    {
      "cell_type": "markdown",
      "source": [
        "## 재귀 알고리즘"
      ],
      "metadata": {
        "id": "dAF1_D2qf6Y_"
      }
    },
    {
      "cell_type": "markdown",
      "source": [
        "### @순환 호출\n",
        "- 팩토리얼(factorial)"
      ],
      "metadata": {
        "id": "2MtkMY5xf-09"
      }
    },
    {
      "cell_type": "code",
      "execution_count": null,
      "metadata": {
        "id": "N1iTsKY7eqnI"
      },
      "outputs": [],
      "source": [
        "def factorial(n):\n",
        "    if n == 1: return 1\n",
        "    return n*factorial(n-1)\n",
        "\n",
        "factorial(3)"
      ]
    },
    {
      "cell_type": "markdown",
      "source": [
        "- 하노이의 탑"
      ],
      "metadata": {
        "id": "2Oh83x6pgKEx"
      }
    },
    {
      "cell_type": "code",
      "source": [
        "cnt = 0 #  원판 옮긴 횟수\n",
        "def moveHanoi_1(n, start, end):\n",
        "    global cnt\n",
        "    other = 6 - (start+end)  # 보조 기둥 번호,  계산식: 1+2+3 = 6\n",
        "    if n == 1:\n",
        "        print(f'{n} 번 디스크: {start} --> {end} 이동')\n",
        "        cnt += 1\n",
        "        return 0\n",
        "    else:\n",
        "        moveHanoi_1(n-1, start, other)\n",
        "        print(f'{n} 번 디스크: {start} --> {end} 이동')\n",
        "        cnt += 1\n",
        "        moveHanoi_1(n-1, other, end)\n",
        "\n",
        "num = int(input('원판 개수: '))\n",
        "moveHanoi_1(num, 1, 3)   # 원판개수, start기둥, end기둥\n",
        "print(f'원판 옮긴 횟수: {cnt}')"
      ],
      "metadata": {
        "colab": {
          "base_uri": "https://localhost:8080/"
        },
        "collapsed": true,
        "id": "M7N31U5AgLv1",
        "outputId": "a6752240-0051-456f-8778-5ffcc9e114aa"
      },
      "execution_count": null,
      "outputs": [
        {
          "output_type": "stream",
          "name": "stdout",
          "text": [
            "원판 개수: 5\n",
            "1 번 디스크: 1 --> 3 이동\n",
            "2 번 디스크: 1 --> 2 이동\n",
            "1 번 디스크: 3 --> 2 이동\n",
            "3 번 디스크: 1 --> 3 이동\n",
            "1 번 디스크: 2 --> 1 이동\n",
            "2 번 디스크: 2 --> 3 이동\n",
            "1 번 디스크: 1 --> 3 이동\n",
            "4 번 디스크: 1 --> 2 이동\n",
            "1 번 디스크: 3 --> 2 이동\n",
            "2 번 디스크: 3 --> 1 이동\n",
            "1 번 디스크: 2 --> 1 이동\n",
            "3 번 디스크: 3 --> 2 이동\n",
            "1 번 디스크: 1 --> 3 이동\n",
            "2 번 디스크: 1 --> 2 이동\n",
            "1 번 디스크: 3 --> 2 이동\n",
            "5 번 디스크: 1 --> 3 이동\n",
            "1 번 디스크: 2 --> 1 이동\n",
            "2 번 디스크: 2 --> 3 이동\n",
            "1 번 디스크: 1 --> 3 이동\n",
            "3 번 디스크: 2 --> 1 이동\n",
            "1 번 디스크: 3 --> 2 이동\n",
            "2 번 디스크: 3 --> 1 이동\n",
            "1 번 디스크: 2 --> 1 이동\n",
            "4 번 디스크: 2 --> 3 이동\n",
            "1 번 디스크: 1 --> 3 이동\n",
            "2 번 디스크: 1 --> 2 이동\n",
            "1 번 디스크: 3 --> 2 이동\n",
            "3 번 디스크: 1 --> 3 이동\n",
            "1 번 디스크: 2 --> 1 이동\n",
            "2 번 디스크: 2 --> 3 이동\n",
            "1 번 디스크: 1 --> 3 이동\n",
            "원판 옮긴 횟수: 31\n"
          ]
        }
      ]
    },
    {
      "cell_type": "markdown",
      "source": [
        "### [실습] 재귀 알고리즘 적용하기"
      ],
      "metadata": {
        "id": "IxheLKeqnSRH"
      }
    },
    {
      "cell_type": "markdown",
      "source": [
        "- countdown(n) : 5->4->3->2->1->'발사' 순서로 출력하기"
      ],
      "metadata": {
        "id": "FLpy__ALnXYA"
      }
    },
    {
      "cell_type": "code",
      "source": [
        "# Countdown : 5->4->3->2->1->'발사' 순서로 출력하기)\n",
        "def countdown(n):\n",
        "    if n==0 :\n",
        "        print('발사!')\n",
        "    else:\n",
        "        print(n, end='->')\n",
        "        countdown(n-1)\n",
        "\n",
        "countdown(5)"
      ],
      "metadata": {
        "id": "ENgTnlEznSwg"
      },
      "execution_count": null,
      "outputs": []
    },
    {
      "cell_type": "markdown",
      "source": [
        "- printStar(n) : 별 모양 출력하기"
      ],
      "metadata": {
        "id": "SfY7V754nhGq"
      }
    },
    {
      "cell_type": "code",
      "source": [
        "'''\n",
        "*\n",
        "**\n",
        "***\n",
        "****\n",
        "*****\n",
        "'''\n",
        "def printStar(n):\n",
        "    if n > 0:\n",
        "        printStar(n-1)\n",
        "        print('⭐'*n)\n",
        "\n",
        "print( printStar(5) )"
      ],
      "metadata": {
        "id": "kuljO-xJnt82"
      },
      "execution_count": null,
      "outputs": []
    },
    {
      "cell_type": "markdown",
      "source": [
        "- addNumber(n) : 1~10까지 합계 구하기"
      ],
      "metadata": {
        "id": "9Le0SWPlnjwO"
      }
    },
    {
      "cell_type": "code",
      "source": [
        "def addNumber(n):\n",
        "    if n==1:\n",
        "        return 1\n",
        "    return n + addNumber(n-1)\n",
        "\n",
        "print( addNumber(10) )"
      ],
      "metadata": {
        "id": "PFSKGv1cnuUn"
      },
      "execution_count": null,
      "outputs": []
    },
    {
      "cell_type": "markdown",
      "source": [
        "- sum_range(start, end) : 임의의 두 수 사이의 정수 합계 구하기 (1~100 정수)"
      ],
      "metadata": {
        "id": "aOFeb0yrnpUP"
      }
    },
    {
      "cell_type": "code",
      "source": [
        "def sum_recursive(a, b):\n",
        "    # 기저 사례 (Base Case): a == b이면 자기 자신을 반환\n",
        "    if a == b:\n",
        "        return a\n",
        "\n",
        "    # 재귀 호출: (a ~ b)의 합은 a + (a+1 ~ b)의 합\n",
        "    return a + sum_recursive(a + 1, b)\n",
        "\n",
        "import random\n",
        "a = random.randint(1, 100)\n",
        "b = random.randint(1, 100)\n",
        "if a > b:\n",
        "    a, b = b, a      # 작은 값부터 시작\n",
        "print(f'{a} ~ {b} 사이의 숫자합 = {sum_recursive(a, b)}')"
      ],
      "metadata": {
        "colab": {
          "base_uri": "https://localhost:8080/"
        },
        "id": "L-p5L3QZnuyM",
        "outputId": "f7ef44fd-5c5f-4acf-de11-1db58b507e58"
      },
      "execution_count": null,
      "outputs": [
        {
          "output_type": "stream",
          "name": "stdout",
          "text": [
            "70 ~ 72 사이의 숫자합 = 213\n"
          ]
        }
      ]
    },
    {
      "cell_type": "markdown",
      "source": [
        "- reverse(s) : 문자열 뒤집기  "
      ],
      "metadata": {
        "id": "S6GJDloRnrpE"
      }
    },
    {
      "cell_type": "code",
      "source": [
        "def reverse(s):\n",
        "    if len(s) == 0:\n",
        "        return s\n",
        "    else:\n",
        "        return reverse(s[1:]) + s[0]\n",
        "s = input('문자열 입력: ')\n",
        "print( reverse(s) )"
      ],
      "metadata": {
        "colab": {
          "base_uri": "https://localhost:8080/"
        },
        "id": "udEHXKvMnvU_",
        "outputId": "94872e1e-07b3-49fe-9bda-f9577c169cb9"
      },
      "execution_count": null,
      "outputs": [
        {
          "output_type": "stream",
          "name": "stdout",
          "text": [
            "문자열 입력: 문자열 뒤집기\n",
            "기집뒤 열자문\n"
          ]
        }
      ]
    },
    {
      "cell_type": "markdown",
      "source": [
        "\n",
        "\n",
        "---\n",
        "\n"
      ],
      "metadata": {
        "id": "gqfslcQrtjGq"
      }
    },
    {
      "cell_type": "markdown",
      "source": [
        "## 재귀 응용"
      ],
      "metadata": {
        "id": "kv_ihLpWtkdv"
      }
    },
    {
      "cell_type": "markdown",
      "metadata": {
        "id": "4dca0469-b8d9-45fc-b581-d21258ccb817"
      },
      "source": [
        "### @회문(Palindrome)여부 판단하기\n",
        "- 회문(Palindrome): 앞에서부터 읽든, 뒤에서부터  읽든 동일한 단어나 문장을 의미"
      ]
    },
    {
      "cell_type": "code",
      "execution_count": null,
      "metadata": {
        "id": "bf6d7ab1-8ad1-455a-8350-612d78aa1937"
      },
      "outputs": [],
      "source": [
        "# 회문 테스트용 문자열\n",
        "strings = ['level','radar','kayak','I prefer pi',\n",
        "         '기러기','일요일','주유소의 소유주','야 너 이번 주 주번이 너야']\n",
        "strings = ['reaver', 'level','기러기','살금 살금']"
      ]
    },
    {
      "cell_type": "markdown",
      "metadata": {
        "id": "740cd599-43d9-41b8-ae2b-705a984eef07"
      },
      "source": [
        "### [실습문제] 문자열 회문 여부 판단하기"
      ]
    },
    {
      "cell_type": "code",
      "execution_count": null,
      "metadata": {
        "id": "6c572689-b315-4173-865b-86c47cbec6fe",
        "outputId": "e6e0ba78-2af8-43f8-a15e-6e889a17cd81",
        "colab": {
          "base_uri": "https://localhost:8080/"
        }
      },
      "outputs": [
        {
          "output_type": "stream",
          "name": "stdout",
          "text": [
            "reaver\t--> False\n",
            "level\t--> True\n",
            "기러기\t--> True\n",
            "살금살금\t--> False\n"
          ]
        }
      ],
      "source": [
        "# 1.리스트 인덱스를 이용한 체크\n",
        "def is_palindrome(tStrings):  # 회문 여부 판별\n",
        "    for tStr in tStrings:\n",
        "        tStr = tStr.lower().replace(' ','')  # 소문자->공백제거\n",
        "        if tStr == tStr[::-1]:               # 역순정렬/reverse함수 사용\n",
        "            print(f\"{tStr}\\t--> True\")\n",
        "        else:\n",
        "            print(f\"{tStr}\\t--> False\")\n",
        "\n",
        "is_palindrome(['reaver', 'level','기러기','살금 살금'])"
      ]
    },
    {
      "cell_type": "markdown",
      "metadata": {
        "id": "332423bf-c847-4c2f-ab8b-74898e4933b5"
      },
      "source": [
        "### [실습문제] 문자열 회문여부 판단하기(재귀 알고리즘 사용)"
      ]
    },
    {
      "cell_type": "code",
      "execution_count": null,
      "metadata": {
        "id": "96811845-b175-43b6-af38-61e12ff848db",
        "outputId": "87bc879b-1f2c-4484-b015-466cf7113424"
      },
      "outputs": [
        {
          "name": "stdout",
          "output_type": "stream",
          "text": [
            "reaver --> False\n",
            "level --> True\n",
            "기러기 --> True\n",
            "살금살금 --> False\n"
          ]
        }
      ],
      "source": [
        "# 2.재귀 알고리즘 사용\n",
        "def palindrome(tStr):         # 재귀방법으로 회문 여부 체크\n",
        "    if len(tStr) <= 1:                      # Base case --> 문자열 길이가 1이하면\n",
        "        return True\n",
        "    if tStr[0] != tStr[-1]:                 # 첫 글자&끝 글자가 동일한지 체크\n",
        "        return False\n",
        "    return palindrome(tStr[1:len(tStr)-1])  # 재귀 호출\n",
        "\n",
        "\n",
        "def is_palindrome(tStrings):  # 회문 여부 판별\n",
        "    for tStr in tStrings:                    # 문자열 하나씩 읽기\n",
        "        tStr = tStr.lower().replace(' ','')  # 소문자->공백제거\n",
        "        if palindrome(tStr):                 # 판별 함수 호출\n",
        "            print(f\"{tStr} --> True\")\n",
        "        else:\n",
        "            print(f\"{tStr} --> False\")\n",
        "\n",
        "is_palindrome(['reaver', 'level','기러기','살금 살금'])"
      ]
    },
    {
      "cell_type": "markdown",
      "metadata": {
        "id": "2f349b56-10e6-4dcd-afe5-e49a68ccc6c9"
      },
      "source": [
        "-----------------------"
      ]
    },
    {
      "cell_type": "markdown",
      "metadata": {
        "id": "1e3c4131-6314-4657-81f6-941971f5a9fe"
      },
      "source": [
        "### 2-2. 프랙탈 그리기"
      ]
    },
    {
      "cell_type": "markdown",
      "metadata": {
        "id": "3762320d-99f8-481a-930a-0a4b23b11924"
      },
      "source": [
        "### [실습문제] 코흐 곡선(Koch Curve) 그리기\n",
        "[주의!] turtle 모듈은 PC python IDLE 툴에서 안정적으로 작동한다."
      ]
    },
    {
      "cell_type": "code",
      "execution_count": null,
      "metadata": {
        "id": "b002edad-fd9c-4ffc-9eb2-01a42f3e932a"
      },
      "outputs": [],
      "source": [
        "import turtle\n",
        "\n",
        "def koch_curve(t, order, size):\n",
        "    \"\"\"\n",
        "    t: 터틀 객체\n",
        "    order: 재귀 횟수\n",
        "    size: 선분 길이\n",
        "    \"\"\"\n",
        "    if order == 0:\n",
        "        t.forward(size)\n",
        "    else:\n",
        "        koch_curve(t, order-1, size/3)\n",
        "        t.left(60)\n",
        "        koch_curve(t, order-1, size/3)\n",
        "        t.right(120)\n",
        "        koch_curve(t, order-1, size/3)\n",
        "        t.left(60)\n",
        "        koch_curve(t, order-1, size/3)\n",
        "\n",
        "def draw_koch_curve(order, size):\n",
        "    t = turtle.Turtle()\n",
        "    t.speed(0)      # 최대 속도로 그리기\n",
        "    t.penup()\n",
        "    t.goto(-200,0)  # 좌표 이동\n",
        "    t.pendown()\n",
        "\n",
        "    koch_curve(t, order, size)   # 그리기(터틀) 객체, 재귀호출 횟수, 변길이\n",
        "\n",
        "# 코흐 커브 생성\n",
        "draw_koch_curve(order=4, size=400)\n",
        "turtle.exitonclick()\n",
        "# turtle.mainloop()"
      ]
    },
    {
      "cell_type": "markdown",
      "metadata": {
        "id": "4330b95b-9496-4969-a5a7-5e5e43db8142"
      },
      "source": [
        "### [실습문제] 시에르핀스키 삼각형"
      ]
    },
    {
      "cell_type": "code",
      "execution_count": null,
      "metadata": {
        "id": "6c060dda-6dab-498c-8adb-d4143c22f1ac"
      },
      "outputs": [],
      "source": [
        "import turtle\n",
        "\n",
        "def sierpinski_triangle(t, order, size, p1, p2, p3):\n",
        "    \"\"\"\n",
        "    t: 터틀 객체\n",
        "    order: 반복 횟수\n",
        "    size: 삼각형 한 변의 길이\n",
        "    p1, p2, p3: 삼각형의 세 꼭짓점 좌표\n",
        "    \"\"\"\n",
        "    if order == 0:\n",
        "        # 삼각형 그리기\n",
        "        t.up()\n",
        "        t.goto(p1)\n",
        "        t.down()\n",
        "        t.goto(p2)\n",
        "        t.goto(p3)\n",
        "        t.goto(p1)\n",
        "    else:\n",
        "        # 새로운 꼭짓점 계산\n",
        "        p12 = ((p1[0] + p2[0]) / 2, (p1[1] + p2[1]) / 2)\n",
        "        p23 = ((p2[0] + p3[0]) / 2, (p2[1] + p3[1]) / 2)\n",
        "        p31 = ((p3[0] + p1[0]) / 2, (p3[1] + p1[1]) / 2)\n",
        "\n",
        "        # 재귀 호출\n",
        "        sierpinski_triangle(t, order-1, size/2, p1, p12, p31)\n",
        "        sierpinski_triangle(t, order-1, size/2, p12, p2, p23)\n",
        "        sierpinski_triangle(t, order-1, size/2, p31, p23, p3)\n",
        "\n",
        "def draw_sierpinski_triangle(order, size):\n",
        "    t = turtle.Turtle()\n",
        "    t.speed(0)  # 최대 속도로 그리기\n",
        "\n",
        "    p1 = (-size/2, -size/(2 * (3**0.5)))\n",
        "    p2 = (size/2, -size/(2 * (3**0.5)))\n",
        "    p3 = (0, size/(3**0.5))\n",
        "\n",
        "    sierpinski_triangle(t, order, size, p1, p2, p3)\n",
        "\n",
        "# 시에르핀스키 삼각형 생성\n",
        "draw_sierpinski_triangle(order=4, size=500)  # 재귀 깊이, 삼각형한 변의 길이\n",
        "turtle.mainloop()"
      ]
    },
    {
      "cell_type": "code",
      "execution_count": null,
      "metadata": {
        "id": "c549dc5a-8720-493f-93bd-51f3c63f7c1f"
      },
      "outputs": [],
      "source": [
        "import turtle\n",
        "\n",
        "def draw_sierpinski(length, depth):\n",
        "    if depth == 0:\n",
        "        # 깊이가 0일 때, 삼각형 그리기\n",
        "        for _ in range(3):\n",
        "            turtle.forward(length)\n",
        "            turtle.left(120)\n",
        "    else:\n",
        "        # 삼각형을 삼등분하여 시에르핀스키 삼각형 그리기\n",
        "        draw_sierpinski(length / 2, depth - 1)\n",
        "        turtle.forward(length / 2)\n",
        "        draw_sierpinski(length / 2, depth - 1)\n",
        "        turtle.backward(length / 2)\n",
        "        turtle.left(60)\n",
        "        turtle.forward(length / 2)\n",
        "        turtle.right(60)\n",
        "        draw_sierpinski(length / 2, depth - 1)\n",
        "        turtle.left(60)\n",
        "        turtle.backward(length / 2)\n",
        "        turtle.right(60)\n",
        "\n",
        "def main():\n",
        "    turtle.speed(0)  # 속도 설정 (0: 가장 빠름, 1: 느림)\n",
        "    turtle.penup()\n",
        "    turtle.goto(-200, -100)\n",
        "    turtle.pendown()\n",
        "    draw_sierpinski(400, 4)  # 삼각형의 한 변의 길이와 재귀 깊이 설정\n",
        "    turtle.hideturtle()\n",
        "    turtle.done()\n",
        "\n",
        "main()"
      ]
    },
    {
      "cell_type": "markdown",
      "source": [
        "\n",
        "\n",
        "---\n",
        "\n"
      ],
      "metadata": {
        "id": "jXyhU2fT2Xgo"
      }
    }
  ]
}